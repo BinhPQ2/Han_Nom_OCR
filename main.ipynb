{
  "cells": [
    {
      "cell_type": "markdown",
      "metadata": {
        "id": "RU4nZHN0Tsyt"
      },
      "source": [
        "# Download weight"
      ]
    },
    {
      "cell_type": "code",
      "execution_count": 17,
      "metadata": {
        "id": "Kg6U3eJhUHbE"
      },
      "outputs": [],
      "source": [
        "# Delete all files and folders in the current directory. Use with caution!\n",
        "import shutil\n",
        "shutil.rmtree('./', ignore_errors=True)"
      ]
    },
    {
      "cell_type": "code",
      "execution_count": 18,
      "metadata": {
        "colab": {
          "base_uri": "https://localhost:8080/"
        },
        "id": "bEFCR7eQTsy0",
        "outputId": "97c9b26f-2f39-44ca-cf9c-d9a43ca19a17"
      },
      "outputs": [
        {
          "name": "stdout",
          "output_type": "stream",
          "text": [
            "Cloning into '.'...\n",
            "remote: Enumerating objects: 228, done.\u001b[K\n",
            "remote: Counting objects: 100% (228/228), done.\u001b[K\n",
            "remote: Compressing objects: 100% (173/173), done.\u001b[K\n",
            "remote: Total 228 (delta 55), reused 204 (delta 35), pack-reused 0 (from 0)\u001b[K\n",
            "Receiving objects: 100% (228/228), 8.89 MiB | 34.08 MiB/s, done.\n",
            "Resolving deltas: 100% (55/55), done.\n",
            "Cloning into 'yolov10'...\n",
            "remote: Enumerating objects: 20328, done.\u001b[K\n",
            "remote: Counting objects: 100% (2443/2443), done.\u001b[K\n",
            "remote: Compressing objects: 100% (245/245), done.\u001b[K\n",
            "remote: Total 20328 (delta 2315), reused 2198 (delta 2198), pack-reused 17885 (from 1)\u001b[K\n",
            "Receiving objects: 100% (20328/20328), 11.14 MiB | 24.33 MiB/s, done.\n",
            "Resolving deltas: 100% (14335/14335), done.\n"
          ]
        }
      ],
      "source": [
        "!git clone https://github.com/BinhPQ2/Han_Nom_OCR.git .\n",
        "!git clone https://github.com/BinhPQ2/yolov10.git"
      ]
    },
    {
      "cell_type": "code",
      "execution_count": 19,
      "metadata": {
        "colab": {
          "base_uri": "https://localhost:8080/"
        },
        "collapsed": true,
        "id": "yg9kGcYzmpOD",
        "outputId": "10e787ed-cd76-4c39-deca-cae3c49b2c98"
      },
      "outputs": [
        {
          "name": "stdout",
          "output_type": "stream",
          "text": [
            "/usr/local/lib/python3.10/dist-packages/gdown/__main__.py:132: FutureWarning: Option `--id` was deprecated in version 4.3.1 and will be removed in 5.0. You don't need to pass it anymore to use a file ID.\n",
            "  warnings.warn(\n",
            "Downloading...\n",
            "From (original): https://drive.google.com/uc?id=11VxsyUVmdH8yD3MtQT-t4I2q9YIvkp3w\n",
            "From (redirected): https://drive.google.com/uc?id=11VxsyUVmdH8yD3MtQT-t4I2q9YIvkp3w&confirm=t&uuid=ab853c6f-df67-4f24-a2dd-9f431a3bf79f\n",
            "To: /content/file.zip\n",
            "100% 262M/262M [00:01<00:00, 245MB/s]\n"
          ]
        }
      ],
      "source": [
        "!gdown --id weight_link_here -O file.zip\n",
        "!unzip -q file.zip"
      ]
    },
    {
      "cell_type": "markdown",
      "metadata": {
        "id": "D3EilJbEnHiT"
      },
      "source": [
        "# Install environments"
      ]
    },
    {
      "cell_type": "code",
      "execution_count": 3,
      "metadata": {
        "colab": {
          "base_uri": "https://localhost:8080/"
        },
        "id": "Uxi_bpWUmlo0",
        "outputId": "934089a2-8140-4216-8805-a1882e810b8a"
      },
      "outputs": [
        {
          "name": "stdout",
          "output_type": "stream",
          "text": [
            "\u001b[?25l     \u001b[90m━━━━━━━━━━━━━━━━━━━━━━━━━━━━━━━━━━━━━━━━\u001b[0m \u001b[32m0.0/88.4 kB\u001b[0m \u001b[31m?\u001b[0m eta \u001b[36m-:--:--\u001b[0m\r\u001b[2K     \u001b[90m━━━━━━━━━━━━━━━━━━━━━━━━━━━━━━━━━━━━━━━━\u001b[0m \u001b[32m88.4/88.4 kB\u001b[0m \u001b[31m5.0 MB/s\u001b[0m eta \u001b[36m0:00:00\u001b[0m\n",
            "\u001b[?25h  Preparing metadata (setup.py) ... \u001b[?25l\u001b[?25hdone\n",
            "\u001b[2K   \u001b[90m━━━━━━━━━━━━━━━━━━━━━━━━━━━━━━━━━━━━━━━━\u001b[0m \u001b[32m407.5/407.5 kB\u001b[0m \u001b[31m19.4 MB/s\u001b[0m eta \u001b[36m0:00:00\u001b[0m\n",
            "\u001b[2K   \u001b[90m━━━━━━━━━━━━━━━━━━━━━━━━━━━━━━━━━━━━━━━━\u001b[0m \u001b[32m294.9/294.9 kB\u001b[0m \u001b[31m20.8 MB/s\u001b[0m eta \u001b[36m0:00:00\u001b[0m\n",
            "\u001b[2K   \u001b[90m━━━━━━━━━━━━━━━━━━━━━━━━━━━━━━━━━━━━━━━━\u001b[0m \u001b[32m908.3/908.3 kB\u001b[0m \u001b[31m37.3 MB/s\u001b[0m eta \u001b[36m0:00:00\u001b[0m\n",
            "\u001b[2K   \u001b[90m━━━━━━━━━━━━━━━━━━━━━━━━━━━━━━━━━━━━━━━━\u001b[0m \u001b[32m244.3/244.3 kB\u001b[0m \u001b[31m18.7 MB/s\u001b[0m eta \u001b[36m0:00:00\u001b[0m\n",
            "\u001b[2K   \u001b[90m━━━━━━━━━━━━━━━━━━━━━━━━━━━━━━━━━━━━━━━━\u001b[0m \u001b[32m3.4/3.4 MB\u001b[0m \u001b[31m62.8 MB/s\u001b[0m eta \u001b[36m0:00:00\u001b[0m\n",
            "\u001b[?25h  Building wheel for fire (setup.py) ... \u001b[?25l\u001b[?25hdone\n",
            "\u001b[2K   \u001b[90m━━━━━━━━━━━━━━━━━━━━━━━━━━━━━━━━━━━━━━━━\u001b[0m \u001b[32m758.9/758.9 MB\u001b[0m \u001b[31m809.5 kB/s\u001b[0m eta \u001b[36m0:00:00\u001b[0m\n",
            "\u001b[2K   \u001b[90m━━━━━━━━━━━━━━━━━━━━━━━━━━━━━━━━━━━━━━━━\u001b[0m \u001b[32m76.4/76.4 kB\u001b[0m \u001b[31m5.8 MB/s\u001b[0m eta \u001b[36m0:00:00\u001b[0m\n",
            "\u001b[2K   \u001b[90m━━━━━━━━━━━━━━━━━━━━━━━━━━━━━━━━━━━━━━━━\u001b[0m \u001b[32m77.9/77.9 kB\u001b[0m \u001b[31m6.4 MB/s\u001b[0m eta \u001b[36m0:00:00\u001b[0m\n",
            "\u001b[2K   \u001b[90m━━━━━━━━━━━━━━━━━━━━━━━━━━━━━━━━━━━━━━━━\u001b[0m \u001b[32m58.3/58.3 kB\u001b[0m \u001b[31m4.9 MB/s\u001b[0m eta \u001b[36m0:00:00\u001b[0m\n",
            "\u001b[?25h"
          ]
        }
      ],
      "source": [
        "!pip install -q paddleocr --upgrade\n",
        "!pip install -q paddlepaddle-gpu --upgrade"
      ]
    },
    {
      "cell_type": "code",
      "execution_count": 4,
      "metadata": {
        "colab": {
          "base_uri": "https://localhost:8080/"
        },
        "collapsed": true,
        "id": "uF974fhumlot",
        "outputId": "3cd05121-5f3c-4592-f71d-17ac94965deb"
      },
      "outputs": [
        {
          "name": "stdout",
          "output_type": "stream",
          "text": [
            "\u001b[2K     \u001b[90m━━━━━━━━━━━━━━━━━━━━━━━━━━━━━━━━━━━━━━━━\u001b[0m \u001b[32m60.6/60.6 kB\u001b[0m \u001b[31m4.6 MB/s\u001b[0m eta \u001b[36m0:00:00\u001b[0m\n",
            "\u001b[2K     \u001b[90m━━━━━━━━━━━━━━━━━━━━━━━━━━━━━━━━━━━━━━━━\u001b[0m \u001b[32m50.4/50.4 kB\u001b[0m \u001b[31m4.2 MB/s\u001b[0m eta \u001b[36m0:00:00\u001b[0m\n",
            "\u001b[2K   \u001b[90m━━━━━━━━━━━━━━━━━━━━━━━━━━━━━━━━━━━━━━━━\u001b[0m \u001b[32m619.9/619.9 MB\u001b[0m \u001b[31m3.1 MB/s\u001b[0m eta \u001b[36m0:00:00\u001b[0m\n",
            "\u001b[2K   \u001b[90m━━━━━━━━━━━━━━━━━━━━━━━━━━━━━━━━━━━━━━━━\u001b[0m \u001b[32m6.0/6.0 MB\u001b[0m \u001b[31m68.4 MB/s\u001b[0m eta \u001b[36m0:00:00\u001b[0m\n",
            "\u001b[2K   \u001b[90m━━━━━━━━━━━━━━━━━━━━━━━━━━━━━━━━━━━━━━━━\u001b[0m \u001b[32m14.6/14.6 MB\u001b[0m \u001b[31m62.5 MB/s\u001b[0m eta \u001b[36m0:00:00\u001b[0m\n",
            "\u001b[2K   \u001b[90m━━━━━━━━━━━━━━━━━━━━━━━━━━━━━━━━━━━━━━━━\u001b[0m \u001b[32m5.9/5.9 MB\u001b[0m \u001b[31m83.4 MB/s\u001b[0m eta \u001b[36m0:00:00\u001b[0m\n",
            "\u001b[2K   \u001b[90m━━━━━━━━━━━━━━━━━━━━━━━━━━━━━━━━━━━━━━━━\u001b[0m \u001b[32m426.2/426.2 kB\u001b[0m \u001b[31m26.7 MB/s\u001b[0m eta \u001b[36m0:00:00\u001b[0m\n",
            "\u001b[2K   \u001b[90m━━━━━━━━━━━━━━━━━━━━━━━━━━━━━━━━━━━━━━━━\u001b[0m \u001b[32m705.5/705.5 kB\u001b[0m \u001b[31m35.3 MB/s\u001b[0m eta \u001b[36m0:00:00\u001b[0m\n",
            "\u001b[2K   \u001b[90m━━━━━━━━━━━━━━━━━━━━━━━━━━━━━━━━━━━━━━━━\u001b[0m \u001b[32m38.6/38.6 MB\u001b[0m \u001b[31m22.4 MB/s\u001b[0m eta \u001b[36m0:00:00\u001b[0m\n",
            "\u001b[2K   \u001b[90m━━━━━━━━━━━━━━━━━━━━━━━━━━━━━━━━━━━━━━━━\u001b[0m \u001b[32m2.3/2.3 MB\u001b[0m \u001b[31m82.7 MB/s\u001b[0m eta \u001b[36m0:00:00\u001b[0m\n",
            "\u001b[2K   \u001b[90m━━━━━━━━━━━━━━━━━━━━━━━━━━━━━━━━━━━━━━━━\u001b[0m \u001b[32m199.8/199.8 MB\u001b[0m \u001b[31m5.7 MB/s\u001b[0m eta \u001b[36m0:00:00\u001b[0m\n",
            "\u001b[2K   \u001b[90m━━━━━━━━━━━━━━━━━━━━━━━━━━━━━━━━━━━━━━━━\u001b[0m \u001b[32m12.3/12.3 MB\u001b[0m \u001b[31m104.9 MB/s\u001b[0m eta \u001b[36m0:00:00\u001b[0m\n",
            "\u001b[2K   \u001b[90m━━━━━━━━━━━━━━━━━━━━━━━━━━━━━━━━━━━━━━━━\u001b[0m \u001b[32m62.2/62.2 MB\u001b[0m \u001b[31m11.8 MB/s\u001b[0m eta \u001b[36m0:00:00\u001b[0m\n",
            "\u001b[2K   \u001b[90m━━━━━━━━━━━━━━━━━━━━━━━━━━━━━━━━━━━━━━━━\u001b[0m \u001b[32m288.2/288.2 kB\u001b[0m \u001b[31m22.9 MB/s\u001b[0m eta \u001b[36m0:00:00\u001b[0m\n",
            "\u001b[2K   \u001b[90m━━━━━━━━━━━━━━━━━━━━━━━━━━━━━━━━━━━━━━━━\u001b[0m \u001b[32m401.7/401.7 kB\u001b[0m \u001b[31m30.3 MB/s\u001b[0m eta \u001b[36m0:00:00\u001b[0m\n",
            "\u001b[2K   \u001b[90m━━━━━━━━━━━━━━━━━━━━━━━━━━━━━━━━━━━━━━━━\u001b[0m \u001b[32m1.2/1.2 MB\u001b[0m \u001b[31m51.8 MB/s\u001b[0m eta \u001b[36m0:00:00\u001b[0m\n",
            "\u001b[2K   \u001b[90m━━━━━━━━━━━━━━━━━━━━━━━━━━━━━━━━━━━━━━━━\u001b[0m \u001b[32m315.9/315.9 kB\u001b[0m \u001b[31m25.3 MB/s\u001b[0m eta \u001b[36m0:00:00\u001b[0m\n",
            "\u001b[2K   \u001b[90m━━━━━━━━━━━━━━━━━━━━━━━━━━━━━━━━━━━━━━━━\u001b[0m \u001b[32m317.1/317.1 MB\u001b[0m \u001b[31m4.4 MB/s\u001b[0m eta \u001b[36m0:00:00\u001b[0m\n",
            "\u001b[2K   \u001b[90m━━━━━━━━━━━━━━━━━━━━━━━━━━━━━━━━━━━━━━━━\u001b[0m \u001b[32m11.8/11.8 MB\u001b[0m \u001b[31m100.5 MB/s\u001b[0m eta \u001b[36m0:00:00\u001b[0m\n",
            "\u001b[2K   \u001b[90m━━━━━━━━━━━━━━━━━━━━━━━━━━━━━━━━━━━━━━━━\u001b[0m \u001b[32m21.0/21.0 MB\u001b[0m \u001b[31m93.2 MB/s\u001b[0m eta \u001b[36m0:00:00\u001b[0m\n",
            "\u001b[2K   \u001b[90m━━━━━━━━━━━━━━━━━━━━━━━━━━━━━━━━━━━━━━━━\u001b[0m \u001b[32m849.3/849.3 kB\u001b[0m \u001b[31m49.9 MB/s\u001b[0m eta \u001b[36m0:00:00\u001b[0m\n",
            "\u001b[2K   \u001b[90m━━━━━━━━━━━━━━━━━━━━━━━━━━━━━━━━━━━━━━━━\u001b[0m \u001b[32m557.1/557.1 MB\u001b[0m \u001b[31m2.8 MB/s\u001b[0m eta \u001b[36m0:00:00\u001b[0m\n",
            "\u001b[2K   \u001b[90m━━━━━━━━━━━━━━━━━━━━━━━━━━━━━━━━━━━━━━━━\u001b[0m \u001b[32m168.4/168.4 MB\u001b[0m \u001b[31m6.7 MB/s\u001b[0m eta \u001b[36m0:00:00\u001b[0m\n",
            "\u001b[2K   \u001b[90m━━━━━━━━━━━━━━━━━━━━━━━━━━━━━━━━━━━━━━━━\u001b[0m \u001b[32m54.6/54.6 MB\u001b[0m \u001b[31m12.8 MB/s\u001b[0m eta \u001b[36m0:00:00\u001b[0m\n",
            "\u001b[2K   \u001b[90m━━━━━━━━━━━━━━━━━━━━━━━━━━━━━━━━━━━━━━━━\u001b[0m \u001b[32m102.6/102.6 MB\u001b[0m \u001b[31m8.4 MB/s\u001b[0m eta \u001b[36m0:00:00\u001b[0m\n",
            "\u001b[2K   \u001b[90m━━━━━━━━━━━━━━━━━━━━━━━━━━━━━━━━━━━━━━━━\u001b[0m \u001b[32m173.2/173.2 MB\u001b[0m \u001b[31m6.4 MB/s\u001b[0m eta \u001b[36m0:00:00\u001b[0m\n",
            "\u001b[2K   \u001b[90m━━━━━━━━━━━━━━━━━━━━━━━━━━━━━━━━━━━━━━━━\u001b[0m \u001b[32m177.1/177.1 MB\u001b[0m \u001b[31m6.5 MB/s\u001b[0m eta \u001b[36m0:00:00\u001b[0m\n",
            "\u001b[2K   \u001b[90m━━━━━━━━━━━━━━━━━━━━━━━━━━━━━━━━━━━━━━━━\u001b[0m \u001b[32m98.6/98.6 kB\u001b[0m \u001b[31m8.6 MB/s\u001b[0m eta \u001b[36m0:00:00\u001b[0m\n",
            "\u001b[2K   \u001b[90m━━━━━━━━━━━━━━━━━━━━━━━━━━━━━━━━━━━━━━━━\u001b[0m \u001b[32m63.3/63.3 MB\u001b[0m \u001b[31m12.3 MB/s\u001b[0m eta \u001b[36m0:00:00\u001b[0m\n",
            "\u001b[2K   \u001b[90m━━━━━━━━━━━━━━━━━━━━━━━━━━━━━━━━━━━━━━━━\u001b[0m \u001b[32m151.5/151.5 kB\u001b[0m \u001b[31m12.7 MB/s\u001b[0m eta \u001b[36m0:00:00\u001b[0m\n",
            "\u001b[2K   \u001b[90m━━━━━━━━━━━━━━━━━━━━━━━━━━━━━━━━━━━━━━━━\u001b[0m \u001b[32m141.9/141.9 kB\u001b[0m \u001b[31m12.3 MB/s\u001b[0m eta \u001b[36m0:00:00\u001b[0m\n",
            "\u001b[2K   \u001b[90m━━━━━━━━━━━━━━━━━━━━━━━━━━━━━━━━━━━━━━━━\u001b[0m \u001b[32m10.3/10.3 MB\u001b[0m \u001b[31m117.0 MB/s\u001b[0m eta \u001b[36m0:00:00\u001b[0m\n",
            "\u001b[2K   \u001b[90m━━━━━━━━━━━━━━━━━━━━━━━━━━━━━━━━━━━━━━━━\u001b[0m \u001b[32m62.8/62.8 kB\u001b[0m \u001b[31m5.5 MB/s\u001b[0m eta \u001b[36m0:00:00\u001b[0m\n",
            "\u001b[2K   \u001b[90m━━━━━━━━━━━━━━━━━━━━━━━━━━━━━━━━━━━━━━━━\u001b[0m \u001b[32m46.0/46.0 kB\u001b[0m \u001b[31m3.7 MB/s\u001b[0m eta \u001b[36m0:00:00\u001b[0m\n",
            "\u001b[2K   \u001b[90m━━━━━━━━━━━━━━━━━━━━━━━━━━━━━━━━━━━━━━━━\u001b[0m \u001b[32m93.5/93.5 kB\u001b[0m \u001b[31m8.3 MB/s\u001b[0m eta \u001b[36m0:00:00\u001b[0m\n",
            "\u001b[2K   \u001b[90m━━━━━━━━━━━━━━━━━━━━━━━━━━━━━━━━━━━━━━━━\u001b[0m \u001b[32m86.8/86.8 kB\u001b[0m \u001b[31m7.8 MB/s\u001b[0m eta \u001b[36m0:00:00\u001b[0m\n",
            "\u001b[2K   \u001b[90m━━━━━━━━━━━━━━━━━━━━━━━━━━━━━━━━━━━━━━━━\u001b[0m \u001b[32m71.4/71.4 kB\u001b[0m \u001b[31m6.1 MB/s\u001b[0m eta \u001b[36m0:00:00\u001b[0m\n",
            "\u001b[2K   \u001b[90m━━━━━━━━━━━━━━━━━━━━━━━━━━━━━━━━━━━━━━━━\u001b[0m \u001b[32m129.9/129.9 kB\u001b[0m \u001b[31m11.9 MB/s\u001b[0m eta \u001b[36m0:00:00\u001b[0m\n",
            "\u001b[2K   \u001b[90m━━━━━━━━━━━━━━━━━━━━━━━━━━━━━━━━━━━━━━━━\u001b[0m \u001b[32m96.4/96.4 kB\u001b[0m \u001b[31m8.5 MB/s\u001b[0m eta \u001b[36m0:00:00\u001b[0m\n",
            "\u001b[?25h\u001b[31mERROR: pip's dependency resolver does not currently take into account all the packages that are installed. This behaviour is the source of the following dependency conflicts.\n",
            "torchaudio 2.4.0+cu121 requires torch==2.4.0, but you have torch 2.0.1 which is incompatible.\u001b[0m\u001b[31m\n",
            "\u001b[0m  Installing build dependencies ... \u001b[?25l\u001b[?25hdone\n",
            "  Checking if build backend supports build_editable ... \u001b[?25l\u001b[?25hdone\n",
            "  Getting requirements to build editable ... \u001b[?25l\u001b[?25hdone\n",
            "  Preparing editable metadata (pyproject.toml) ... \u001b[?25l\u001b[?25hdone\n",
            "  Building editable for ultralytics (pyproject.toml) ... \u001b[?25l\u001b[?25hdone\n"
          ]
        }
      ],
      "source": [
        "!pip install -q -r requirements.txt\n",
        "!pip install -q -e ./yolov10/\n",
        "# !pip install supervision -q # already included in the requirement.txt\n",
        "# !pip install ultralytics -q"
      ]
    },
    {
      "cell_type": "code",
      "execution_count": null,
      "metadata": {
        "colab": {
          "base_uri": "https://localhost:8080/"
        },
        "id": "uBWvsxc5qasr",
        "outputId": "903618b4-fc7e-4f18-eb49-89e6db5d58ad"
      },
      "outputs": [
        {
          "name": "stdout",
          "output_type": "stream",
          "text": [
            "Name: ultralytics\n",
            "Version: 8.1.34\n",
            "Summary: Ultralytics YOLOv8 for SOTA object detection, multi-object tracking, instance segmentation, pose estimation and image classification.\n",
            "Home-page: \n",
            "Author: Glenn Jocher, Ayush Chaurasia, Jing Qiu\n",
            "Author-email: \n",
            "License: AGPL-3.0\n",
            "Location: /usr/local/lib/python3.10/dist-packages\n",
            "Editable project location: /content/yolov10\n",
            "Requires: matplotlib, opencv-python, pandas, pillow, psutil, py-cpuinfo, pyyaml, requests, scipy, seaborn, thop, torch, torchvision, tqdm\n",
            "Required-by: \n"
          ]
        }
      ],
      "source": [
        "!pip show ultralytics"
      ]
    },
    {
      "cell_type": "code",
      "execution_count": 4,
      "metadata": {
        "id": "mfyx-nX8mlov"
      },
      "outputs": [],
      "source": [
        "import os\n",
        "import random\n",
        "import numpy as np\n",
        "from tqdm import tqdm\n",
        "import pickle\n",
        "import cv2\n",
        "import supervision as sv\n",
        "import matplotlib.pyplot as plt\n",
        "from ultralytics import YOLOv10 # rerun session if it has error in this line"
      ]
    },
    {
      "cell_type": "markdown",
      "metadata": {
        "id": "ZF7pyCtamlom"
      },
      "source": [
        "# Detection"
      ]
    },
    {
      "cell_type": "code",
      "execution_count": null,
      "metadata": {
        "id": "R4wQsmD_mlow"
      },
      "outputs": [],
      "source": [
        "def save_crop(result, save_path):\n",
        "    os.makedirs(save_path, exist_ok=True)\n",
        "\n",
        "    conf_s = result.boxes.conf.detach().cpu().numpy()\n",
        "    xyxy_s = result.boxes.xyxy.detach().cpu().numpy()\n",
        "    idx_s = [i for i in range(len(conf_s))]\n",
        "    img_name, img_extension = os.path.splitext(os.path.basename(result.path))\n",
        "    img = result.orig_img\n",
        "\n",
        "    height_extend_ratio = 0.05\n",
        "    width_extend_ratio = 0.1\n",
        "    height=result.orig_img.shape[0]\n",
        "    width=result.orig_img.shape[1]\n",
        "\n",
        "    for idx, conf, xyxy in zip(idx_s, conf_s, xyxy_s):\n",
        "        # name = f\"oder_{idx}__conf_{conf}__name_{img_name}\"\n",
        "\n",
        "        x0, y0, x1, y1 = xyxy.tolist()\n",
        "        x0 = int(max(0, x0 - width_extend_ratio*abs(x1 - x0)))\n",
        "        x1 = int(min(width, x1 + width_extend_ratio*abs(x1 - x0)))\n",
        "        y0 = int(max(0, y0 - height_extend_ratio*abs(y1 - y0)))\n",
        "        y1 = int(min(height, y1 + height_extend_ratio*abs(y1 - y0)))\n",
        "        crop_image = img[y0:y1, x0:x1]\n",
        "        name = f\"{img_name}_{x0}{img_extension}\"\n",
        "\n",
        "\n",
        "        cv2.imwrite(os.path.join(save_path, name), crop_image)"
      ]
    },
    {
      "cell_type": "code",
      "execution_count": null,
      "metadata": {
        "colab": {
          "base_uri": "https://localhost:8080/"
        },
        "id": "itbf2N2jmloy",
        "outputId": "9126e8bc-6e0e-4a96-e26a-68f8e25a9a98"
      },
      "outputs": [
        {
          "name": "stdout",
          "output_type": "stream",
          "text": [
            "\n",
            "image 1/23 /content/input_image/02b02efc5d6b4579a0cae31e1e362555.jpg: 640x480 1 couplet, 64.5ms\n",
            "image 2/23 /content/input_image/0ff04276ca994b12a50f51f88a9373fc.jpg: 640x352 1 couplet, 67.1ms\n",
            "image 3/23 /content/input_image/1a2291615b4e4c288a152b4886ac300e.jpg: 640x480 1 couplet, 30.1ms\n",
            "image 4/23 /content/input_image/1a5634d0281b4b1aac6e616826c30d4b.jpg: 640x320 2 couplets, 165.6ms\n",
            "image 5/23 /content/input_image/1a7296dbb22748e49b656df5cc6743b5.jpg: 640x288 2 couplets, 66.4ms\n",
            "image 6/23 /content/input_image/1b094caec3984b8eb1c929b60a8d2b08.jpg: 640x480 4 couplets, 30.3ms\n",
            "image 7/23 /content/input_image/1b648fd456b54ea5a6a4ff1222b95bad.jpg: 640x384 1 couplet, 63.9ms\n",
            "image 8/23 /content/input_image/1b7b10992eb040d19fcfcadb745d1aa0.jpg: 640x256 1 couplet, 62.0ms\n",
            "image 9/23 /content/input_image/1be6c13d483c41e6809a843fb9f1e913.jpg: 640x480 1 couplet, 30.0ms\n",
            "image 10/23 /content/input_image/1bf527e50d2447098ef82c510e5dab4d.jpg: 640x288 1 couplet, 23.7ms\n",
            "image 11/23 /content/input_image/1c2ae1260936415b97b01f862f35b000.jpg: 640x320 1 couplet, 39.0ms\n",
            "image 12/23 /content/input_image/1c4b01c53a2c4b2e8a76a9f77ab12616.jpg: 640x480 2 couplets, 30.4ms\n",
            "image 13/23 /content/input_image/1d47d147b0d94629bc23065156b3804e.jpg: 640x480 2 couplets, 29.2ms\n",
            "image 14/23 /content/input_image/1e430e63da3f4600a99d57f9f0f522cd.jpg: 640x128 1 couplet, 66.4ms\n",
            "image 15/23 /content/input_image/1eca49e4eaa34db98a48ae23eb6e281e.jpg: 640x480 1 couplet, 29.9ms\n",
            "image 16/23 /content/input_image/1ecfb49531174acab9339f2ffb83c75f.jpg: 640x480 1 couplet, 29.4ms\n",
            "image 17/23 /content/input_image/1ed8a315055b47ee88a8fae54572058d.jpg: 640x480 1 couplet, 29.3ms\n",
            "image 18/23 /content/input_image/1ee3f611b1464b8186efd702889f74da.jpg: 640x640 2 couplets, 36.3ms\n",
            "image 19/23 /content/input_image/1f21b18879ad4f108421babd1bcf405d.jpg: 640x512 1 couplet, 64.9ms\n",
            "image 20/23 /content/input_image/1f318192afe1431f9ce36713cf6b745a.jpg: 640x448 1 couplet, 63.1ms\n",
            "image 21/23 /content/input_image/2a311d177e1f4c8daf3eb2803e1fd0fa.jpg: 640x160 1 couplet, 64.3ms\n",
            "image 22/23 /content/input_image/2b4a2fc826ee4f828bada58e5407dcfe.jpg: 640x480 1 couplet, 30.3ms\n",
            "image 23/23 /content/input_image/2cea7f19b8904e38862bd1c337c9dbed.jpg: 640x480 1 couplet, 29.2ms\n",
            "Speed: 2.8ms preprocess, 49.8ms inference, 3.0ms postprocess per image at shape (1, 3, 640, 480)\n",
            "Results saved to \u001b[1m/content/yolov10/runs/detect/predict\u001b[0m\n",
            "23 labels saved to /content/yolov10/runs/detect/predict/labels\n"
          ]
        }
      ],
      "source": [
        "input_image_folder = \"./input_image\"\n",
        "save_path = \"./output_detection\"\n",
        "model = YOLOv10('./weight/detection_yolov10.pt')\n",
        "\n",
        "results = model.predict(source=input_image_folder, conf=0.5, stream=True, save_txt=True)\n",
        "for idx, result in enumerate(results):\n",
        "    save_crop(result, save_path)"
      ]
    },
    {
      "cell_type": "markdown",
      "metadata": {
        "id": "FX3-RpFPl2wC"
      },
      "source": [
        "# Rotate image to prepare for Recognition"
      ]
    },
    {
      "cell_type": "code",
      "execution_count": null,
      "metadata": {
        "id": "dJ7A596uJsbZ"
      },
      "outputs": [],
      "source": [
        "# prompt: Rotate all the image in ./output_detection by 90 degree counter-clockwise and save it in ./output_detection_rotated\n",
        "\n",
        "import os\n",
        "import cv2\n",
        "\n",
        "input_folder = './output_detection'\n",
        "output_folder = './output_detection_rotated'\n",
        "\n",
        "os.makedirs(output_folder, exist_ok=True)\n",
        "\n",
        "for filename in os.listdir(input_folder):\n",
        "  if filename.endswith(('.jpg', '.jpeg', '.png')):\n",
        "    img_path = os.path.join(input_folder, filename)\n",
        "    img = cv2.imread(img_path)\n",
        "    rotated_img = cv2.rotate(img, cv2.ROTATE_90_COUNTERCLOCKWISE)\n",
        "    output_path = os.path.join(output_folder, filename)\n",
        "    cv2.imwrite(output_path, rotated_img)\n"
      ]
    },
    {
      "cell_type": "markdown",
      "metadata": {
        "id": "EH-UJpWvmloz"
      },
      "source": [
        "# Recognition"
      ]
    },
    {
      "cell_type": "code",
      "execution_count": null,
      "metadata": {
        "colab": {
          "base_uri": "https://localhost:8080/"
        },
        "id": "BvOGJgFOmlo0",
        "outputId": "c2b15afd-6baa-4b9e-c363-7c0b6fd35968"
      },
      "outputs": [
        {
          "name": "stdout",
          "output_type": "stream",
          "text": [
            "[2024/08/31 16:30:38] ppocr WARNING: The first GPU is used for inference by default, GPU ID: 0\n",
            "[2024/08/31 16:30:41] ppocr INFO: In PP-OCRv3, rec_image_shape parameter defaults to '3, 48, 320', if you are using recognition model with PP-OCRv2 or an older version, please set --rec_image_shape='3,32,320\n",
            "[2024/08/31 16:30:43] ppocr INFO: Predicts of ./output_detection_rotated/02b02efc5d6b4579a0cae31e1e362555.jpg:('光飛以安邦寶劍秋藏湯色近', 0.8345915675163269)\n",
            "[2024/08/31 16:30:43] ppocr INFO: Predicts of ./output_detection_rotated/0ff04276ca994b12a50f51f88a9373fc.jpg:('天太平文官不爱钱官不惜死', 0.8724350929260254)\n",
            "[2024/08/31 16:30:43] ppocr INFO: Predicts of ./output_detection_rotated/1a2291615b4e4c288a152b4886ac300e.jpg:('鴻飛歸結以來永傳留國祖', 0.8624740839004517)\n",
            "[2024/08/31 16:30:43] ppocr INFO: Predicts of ./output_detection_rotated/1a5634d0281b4b1aac6e616826c30d4b.jpg:('家慶有裕波同', 0.9257786273956299)\n",
            "[2024/08/31 16:30:43] ppocr INFO: Predicts of ./output_detection_rotated/1a7296dbb22748e49b656df5cc6743b5.jpg:('延年收厚', 0.9985939264297485)\n",
            "[2024/08/31 16:30:43] ppocr INFO: Predicts of ./output_detection_rotated/1b094caec3984b8eb1c929b60a8d2b08.jpg:('朝育难酬顧後恩', 0.7483893632888794)\n",
            "[2024/08/31 16:30:43] ppocr INFO: Predicts of ./output_detection_rotated/1b648fd456b54ea5a6a4ff1222b95bad.jpg:('陶弘试玄霜务', 0.7878007888793945)\n",
            "[2024/08/31 16:30:43] ppocr INFO: Predicts of ./output_detection_rotated/1b7b10992eb040d19fcfcadb745d1aa0.jpg:('請佛同仰蓮花臺藏大慈尊', 0.9287829995155334)\n",
            "[2024/08/31 16:30:43] ppocr INFO: Predicts of ./output_detection_rotated/1be6c13d483c41e6809a843fb9f1e913.jpg:('八帝立功國史', 0.9683380126953125)\n",
            "[2024/08/31 16:30:43] ppocr INFO: Predicts of ./output_detection_rotated/1bf527e50d2447098ef82c510e5dab4d.jpg:('光莉裕暖科家慶', 0.5777397751808167)\n",
            "[2024/08/31 16:30:43] ppocr INFO: Predicts of ./output_detection_rotated/1c2ae1260936415b97b01f862f35b000.jpg:('聖德日昭如正直明而一', 0.9932176470756531)\n",
            "[2024/08/31 16:30:43] ppocr INFO: Predicts of ./output_detection_rotated/1c4b01c53a2c4b2e8a76a9f77ab12616.jpg:('千秋心法啟傳', 0.9817690253257751)\n",
            "[2024/08/31 16:30:43] ppocr INFO: Predicts of ./output_detection_rotated/1d47d147b0d94629bc23065156b3804e.jpg:('藥舍鐘英基', 0.7728408575057983)\n",
            "[2024/08/31 16:30:43] ppocr INFO: Predicts of ./output_detection_rotated/1e430e63da3f4600a99d57f9f0f522cd.jpg:('賢舟继案最為雅', 0.4926646053791046)\n",
            "[2024/08/31 16:30:43] ppocr INFO: Predicts of ./output_detection_rotated/1eca49e4eaa34db98a48ae23eb6e281e.jpg:('大宋小占無不服', 0.989777684211731)\n",
            "[2024/08/31 16:30:43] ppocr INFO: Predicts of ./output_detection_rotated/1ecfb49531174acab9339f2ffb83c75f.jpg:('一母儀堪后神靈赫濯永千秋', 0.9480185508728027)\n",
            "[2024/08/31 16:30:43] ppocr INFO: Predicts of ./output_detection_rotated/1ed8a315055b47ee88a8fae54572058d.jpg:('仰世德周根生出兩三枝', 0.9469205737113953)\n",
            "[2024/08/31 16:30:43] ppocr INFO: Predicts of ./output_detection_rotated/1ee3f611b1464b8186efd702889f74da.jpg:('雲潤流清磨', 0.7620989680290222)\n",
            "[2024/08/31 16:30:43] ppocr INFO: Predicts of ./output_detection_rotated/1f21b18879ad4f108421babd1bcf405d.jpg:('千秋正氣戴山河', 0.9401740431785583)\n",
            "[2024/08/31 16:30:43] ppocr INFO: Predicts of ./output_detection_rotated/1f318192afe1431f9ce36713cf6b745a.jpg:('變出火宅作清游長者隨機绿對', 0.8977310657501221)\n",
            "[2024/08/31 16:30:43] ppocr INFO: Predicts of ./output_detection_rotated/2a311d177e1f4c8daf3eb2803e1fd0fa.jpg:('修身已得为深功', 0.9972106218338013)\n",
            "[2024/08/31 16:30:43] ppocr INFO: Predicts of ./output_detection_rotated/2b4a2fc826ee4f828bada58e5407dcfe.jpg:('百年德樹發名花', 0.8364796042442322)\n",
            "[2024/08/31 16:30:43] ppocr INFO: Predicts of ./output_detection_rotated/2cea7f19b8904e38862bd1c337c9dbed.jpg:('兼父母庇方民億年香火', 0.9531305432319641)\n",
            "[2024/08/31 16:30:43] ppocr INFO: Latency: 94.78752509407376 ms\n"
          ]
        }
      ],
      "source": [
        "!python3 /content/recognition/ppocr/tools/infer/predict_rec.py --image_dir=\"./output_detection_rotated\" \\\n",
        "                                                    --rec_model_dir='./weight/recognition_PPOCRLABEL' \\\n",
        "                                                    --rec_char_dict_path='/content/recognition/ppocr/utils/ppocr_keys_v1.txt' \\\n",
        "                                                    # --use_gpu=False \\"
      ]
    },
    {
      "cell_type": "markdown",
      "metadata": {
        "id": "E3Xm-7Gl2rBo"
      },
      "source": [
        "# Testing module usage"
      ]
    },
    {
      "cell_type": "code",
      "execution_count": null,
      "metadata": {
        "colab": {
          "base_uri": "https://localhost:8080/"
        },
        "id": "EtfuRWgaQz93",
        "outputId": "8417ffbd-6353-4fb1-9f80-d52d239b9936"
      },
      "outputs": [
        {
          "name": "stdout",
          "output_type": "stream",
          "text": [
            "[2024/08/31 16:30:59] ppocr WARNING: The first GPU is used for inference by default, GPU ID: 0\n",
            "[2024/08/31 16:31:02] ppocr INFO: In PP-OCRv3, rec_image_shape parameter defaults to '3, 48, 320', if you are using recognition model with PP-OCRv2 or an older version, please set --rec_image_shape='3,32,320\n",
            "[2024/08/31 16:31:02] ppocr INFO: Predicts of ./output_detection_rotated/02b02efc5d6b4579a0cae31e1e362555.jpg:('光飛以安邦寶劍秋藏湯色近', 0.8345918655395508)\n",
            "[2024/08/31 16:31:02] ppocr INFO: Predicts of ./output_detection_rotated/0ff04276ca994b12a50f51f88a9373fc.jpg:('天太平文官不爱钱官不惜死', 0.872434675693512)\n",
            "[2024/08/31 16:31:02] ppocr INFO: Predicts of ./output_detection_rotated/1a2291615b4e4c288a152b4886ac300e.jpg:('鴻飛歸結以來永傳留國祖', 0.8624739050865173)\n",
            "[2024/08/31 16:31:02] ppocr INFO: Predicts of ./output_detection_rotated/1a5634d0281b4b1aac6e616826c30d4b.jpg:('家慶有裕波同', 0.925778865814209)\n",
            "[2024/08/31 16:31:02] ppocr INFO: Predicts of ./output_detection_rotated/1a7296dbb22748e49b656df5cc6743b5.jpg:('延年收厚', 0.9985939264297485)\n",
            "[2024/08/31 16:31:02] ppocr INFO: Predicts of ./output_detection_rotated/1b094caec3984b8eb1c929b60a8d2b08.jpg:('朝育难酬顧後恩', 0.748389720916748)\n",
            "[2024/08/31 16:31:02] ppocr INFO: Predicts of ./output_detection_rotated/1b648fd456b54ea5a6a4ff1222b95bad.jpg:('陶弘试玄霜务', 0.7878008484840393)\n",
            "[2024/08/31 16:31:02] ppocr INFO: Predicts of ./output_detection_rotated/1b7b10992eb040d19fcfcadb745d1aa0.jpg:('請佛同仰蓮花臺藏大慈尊', 0.9287830591201782)\n",
            "[2024/08/31 16:31:02] ppocr INFO: Predicts of ./output_detection_rotated/1be6c13d483c41e6809a843fb9f1e913.jpg:('八帝立功國史', 0.9683381915092468)\n",
            "[2024/08/31 16:31:02] ppocr INFO: Predicts of ./output_detection_rotated/1bf527e50d2447098ef82c510e5dab4d.jpg:('光莉裕暖科家慶', 0.5777396559715271)\n",
            "[2024/08/31 16:31:02] ppocr INFO: Predicts of ./output_detection_rotated/1c2ae1260936415b97b01f862f35b000.jpg:('聖德日昭如正直明而一', 0.9932176470756531)\n",
            "[2024/08/31 16:31:02] ppocr INFO: Predicts of ./output_detection_rotated/1c4b01c53a2c4b2e8a76a9f77ab12616.jpg:('千秋心法啟傳', 0.981769323348999)\n",
            "[2024/08/31 16:31:02] ppocr INFO: Predicts of ./output_detection_rotated/1d47d147b0d94629bc23065156b3804e.jpg:('藥舍鐘英基', 0.7728409171104431)\n",
            "[2024/08/31 16:31:02] ppocr INFO: Predicts of ./output_detection_rotated/1e430e63da3f4600a99d57f9f0f522cd.jpg:('賢舟继案最為雅', 0.49266451597213745)\n",
            "[2024/08/31 16:31:02] ppocr INFO: Predicts of ./output_detection_rotated/1eca49e4eaa34db98a48ae23eb6e281e.jpg:('大宋小占無不服', 0.9897776246070862)\n",
            "[2024/08/31 16:31:02] ppocr INFO: Predicts of ./output_detection_rotated/1ecfb49531174acab9339f2ffb83c75f.jpg:('一母儀堪后神靈赫濯永千秋', 0.9480187296867371)\n",
            "[2024/08/31 16:31:02] ppocr INFO: Predicts of ./output_detection_rotated/1ed8a315055b47ee88a8fae54572058d.jpg:('仰世德周根生出兩三枝', 0.9469203948974609)\n",
            "[2024/08/31 16:31:02] ppocr INFO: Predicts of ./output_detection_rotated/1ee3f611b1464b8186efd702889f74da.jpg:('雲潤流清磨', 0.7620993256568909)\n",
            "[2024/08/31 16:31:02] ppocr INFO: Predicts of ./output_detection_rotated/1f21b18879ad4f108421babd1bcf405d.jpg:('千秋正氣戴山河', 0.9401738047599792)\n",
            "[2024/08/31 16:31:02] ppocr INFO: Predicts of ./output_detection_rotated/1f318192afe1431f9ce36713cf6b745a.jpg:('變出火宅作清游長者隨機绿對', 0.897730827331543)\n",
            "[2024/08/31 16:31:02] ppocr INFO: Predicts of ./output_detection_rotated/2a311d177e1f4c8daf3eb2803e1fd0fa.jpg:('修身已得为深功', 0.9972106218338013)\n",
            "[2024/08/31 16:31:02] ppocr INFO: Predicts of ./output_detection_rotated/2b4a2fc826ee4f828bada58e5407dcfe.jpg:('百年德樹發名花', 0.8364805579185486)\n",
            "[2024/08/31 16:31:02] ppocr INFO: Predicts of ./output_detection_rotated/2cea7f19b8904e38862bd1c337c9dbed.jpg:('兼父母庇方民億年香火', 0.9531306028366089)\n",
            "[2024/08/31 16:31:02] ppocr INFO: Latency: 28.23167261870011 ms\n"
          ]
        }
      ],
      "source": [
        "class Args:\n",
        "    def __init__(self, **kwargs):\n",
        "        # Set attributes dynamically based on keyword arguments\n",
        "        for key, value in kwargs.items():\n",
        "            setattr(self, key, value)\n",
        "\n",
        "    def __repr__(self):\n",
        "        # Optional: customize the string representation for debugging\n",
        "        return str(self.__dict__)\n",
        "\n",
        "# Usage example:\n",
        "args = Args(\n",
        "    use_gpu=True,\n",
        "    use_xpu=False,\n",
        "    use_npu=False,\n",
        "    use_mlu=False,\n",
        "    ir_optim=True,\n",
        "    use_tensorrt=False,\n",
        "    min_subgraph_size=15,\n",
        "    precision='fp32',\n",
        "    gpu_mem=500,\n",
        "    gpu_id=0,\n",
        "    image_dir='./output_detection_rotated',\n",
        "    page_num=0,\n",
        "    det_algorithm='DB',\n",
        "    det_model_dir=None,\n",
        "    det_limit_side_len=960,\n",
        "    det_limit_type='max',\n",
        "    det_box_type='quad',\n",
        "    det_db_thresh=0.3,\n",
        "    det_db_box_thresh=0.6,\n",
        "    det_db_unclip_ratio=1.5,\n",
        "    max_batch_size=10,\n",
        "    use_dilation=False,\n",
        "    det_db_score_mode='fast',\n",
        "    det_east_score_thresh=0.8,\n",
        "    det_east_cover_thresh=0.1,\n",
        "    det_east_nms_thresh=0.2,\n",
        "    det_sast_score_thresh=0.5,\n",
        "    det_sast_nms_thresh=0.2,\n",
        "    det_pse_thresh=0,\n",
        "    det_pse_box_thresh=0.85,\n",
        "    det_pse_min_area=16,\n",
        "    det_pse_scale=1,\n",
        "    scales=[8, 16, 32],\n",
        "    alpha=1.0,\n",
        "    beta=1.0,\n",
        "    fourier_degree=5,\n",
        "    rec_algorithm='SVTR_LCNet',\n",
        "    rec_model_dir='./weight/recognition_PPOCRLABEL',\n",
        "    rec_image_inverse=True,\n",
        "    rec_image_shape='3, 48, 320',\n",
        "    rec_batch_num=6,\n",
        "    max_text_length=25,\n",
        "    rec_char_dict_path='/content/recognition/ppocr/utils/ppocr_keys_v1.txt',\n",
        "    use_space_char=True,\n",
        "    vis_font_path='./doc/fonts/simfang.ttf',\n",
        "    drop_score=0.5,\n",
        "    e2e_algorithm='PGNet',\n",
        "    e2e_model_dir=None,\n",
        "    e2e_limit_side_len=768,\n",
        "    e2e_limit_type='max',\n",
        "    e2e_pgnet_score_thresh=0.5,\n",
        "    e2e_char_dict_path='./ppocr/utils/ic15_dict.txt',\n",
        "    e2e_pgnet_valid_set='totaltext',\n",
        "    e2e_pgnet_mode='fast',\n",
        "    use_angle_cls=False,\n",
        "    cls_model_dir=None,\n",
        "    cls_image_shape='3, 48, 192',\n",
        "    label_list=['0', '180'],\n",
        "    cls_batch_num=6,\n",
        "    cls_thresh=0.9,\n",
        "    enable_mkldnn=False,\n",
        "    cpu_threads=10,\n",
        "    use_pdserving=False,\n",
        "    warmup=False,\n",
        "    sr_model_dir=None,\n",
        "    sr_image_shape='3, 32, 128',\n",
        "    sr_batch_num=1,\n",
        "    draw_img_save_dir='./inference_results',\n",
        "    save_crop_res=False,\n",
        "    crop_res_save_dir='./output',\n",
        "    use_mp=False,\n",
        "    total_process_num=1,\n",
        "    process_id=0,\n",
        "    benchmark=False,\n",
        "    save_log_path='./log_output/',\n",
        "    show_log=True,\n",
        "    use_onnx=False,\n",
        "    return_word_box=False\n",
        ")\n",
        "\n",
        "from recognition.ppocr.tools.infer.predict_mine import main\n",
        "main(args)"
      ]
    },
    {
      "cell_type": "markdown",
      "metadata": {
        "id": "MGuU7CGgXIhq"
      },
      "source": [
        "# Running in just 1 line using CLI"
      ]
    },
    {
      "cell_type": "code",
      "execution_count": null,
      "metadata": {
        "colab": {
          "base_uri": "https://localhost:8080/"
        },
        "id": "uGv_tOHSViQG",
        "outputId": "2935bfab-28a4-4e2c-8034-4f9da2382f7b"
      },
      "outputs": [
        {
          "name": "stdout",
          "output_type": "stream",
          "text": [
            "\n",
            "image 1/23 /content/input_image/02b02efc5d6b4579a0cae31e1e362555.jpg: 640x480 1 couplet, 69.1ms\n",
            "image 2/23 /content/input_image/0ff04276ca994b12a50f51f88a9373fc.jpg: 640x352 1 couplet, 78.2ms\n",
            "image 3/23 /content/input_image/1a2291615b4e4c288a152b4886ac300e.jpg: 640x480 1 couplet, 30.1ms\n",
            "image 4/23 /content/input_image/1a5634d0281b4b1aac6e616826c30d4b.jpg: 640x320 2 couplets, 65.2ms\n",
            "image 5/23 /content/input_image/1a7296dbb22748e49b656df5cc6743b5.jpg: 640x288 2 couplets, 85.2ms\n",
            "image 6/23 /content/input_image/1b094caec3984b8eb1c929b60a8d2b08.jpg: 640x480 4 couplets, 30.0ms\n",
            "image 7/23 /content/input_image/1b648fd456b54ea5a6a4ff1222b95bad.jpg: 640x384 1 couplet, 65.5ms\n",
            "image 8/23 /content/input_image/1b7b10992eb040d19fcfcadb745d1aa0.jpg: 640x256 1 couplet, 74.9ms\n",
            "image 9/23 /content/input_image/1be6c13d483c41e6809a843fb9f1e913.jpg: 640x480 1 couplet, 30.0ms\n",
            "image 10/23 /content/input_image/1bf527e50d2447098ef82c510e5dab4d.jpg: 640x288 1 couplet, 23.6ms\n",
            "image 11/23 /content/input_image/1c2ae1260936415b97b01f862f35b000.jpg: 640x320 1 couplet, 25.4ms\n",
            "image 12/23 /content/input_image/1c4b01c53a2c4b2e8a76a9f77ab12616.jpg: 640x480 2 couplets, 29.9ms\n",
            "image 13/23 /content/input_image/1d47d147b0d94629bc23065156b3804e.jpg: 640x480 2 couplets, 27.9ms\n",
            "image 14/23 /content/input_image/1e430e63da3f4600a99d57f9f0f522cd.jpg: 640x128 1 couplet, 69.5ms\n",
            "image 15/23 /content/input_image/1eca49e4eaa34db98a48ae23eb6e281e.jpg: 640x480 1 couplet, 25.2ms\n",
            "image 16/23 /content/input_image/1ecfb49531174acab9339f2ffb83c75f.jpg: 640x480 1 couplet, 24.4ms\n",
            "image 17/23 /content/input_image/1ed8a315055b47ee88a8fae54572058d.jpg: 640x480 1 couplet, 24.5ms\n",
            "image 18/23 /content/input_image/1ee3f611b1464b8186efd702889f74da.jpg: 640x640 2 couplets, 30.8ms\n",
            "image 19/23 /content/input_image/1f21b18879ad4f108421babd1bcf405d.jpg: 640x512 1 couplet, 74.8ms\n",
            "image 20/23 /content/input_image/1f318192afe1431f9ce36713cf6b745a.jpg: 640x448 1 couplet, 64.5ms\n",
            "image 21/23 /content/input_image/2a311d177e1f4c8daf3eb2803e1fd0fa.jpg: 640x160 1 couplet, 67.7ms\n",
            "image 22/23 /content/input_image/2b4a2fc826ee4f828bada58e5407dcfe.jpg: 640x480 1 couplet, 25.3ms\n",
            "image 23/23 /content/input_image/2cea7f19b8904e38862bd1c337c9dbed.jpg: 640x480 1 couplet, 24.5ms\n",
            "Speed: 2.1ms preprocess, 46.4ms inference, 1.0ms postprocess per image at shape (1, 3, 640, 480)\n",
            "Results saved to \u001b[1m/content/yolov10/runs/detect/predict14\u001b[0m\n",
            "23 labels saved to /content/yolov10/runs/detect/predict14/labels\n",
            "[2024/08/31 17:55:13] ppocr WARNING: The first GPU is used for inference by default, GPU ID: 0\n",
            "[2024/08/31 17:55:15] ppocr INFO: In PP-OCRv3, rec_image_shape parameter defaults to '3, 48, 320', if you are using recognition model with PP-OCRv2 or an older version, please set --rec_image_shape='3,32,320\n",
            "[2024/08/31 17:55:16] ppocr INFO: Predicts of ./output_detection_rotated/02b02efc5d6b4579a0cae31e1e362555.jpg:('光飛以安邦寶劍秋藏湯色近', 0.8345918655395508)\n",
            "[2024/08/31 17:55:16] ppocr INFO: Predicts of ./output_detection_rotated/0ff04276ca994b12a50f51f88a9373fc.jpg:('天太平文官不爱钱官不惜死', 0.872434675693512)\n",
            "[2024/08/31 17:55:16] ppocr INFO: Predicts of ./output_detection_rotated/1a2291615b4e4c288a152b4886ac300e.jpg:('鴻飛歸結以來永傳留國祖', 0.8624739050865173)\n",
            "[2024/08/31 17:55:16] ppocr INFO: Predicts of ./output_detection_rotated/1a5634d0281b4b1aac6e616826c30d4b.jpg:('家慶有裕波同', 0.925778865814209)\n",
            "[2024/08/31 17:55:16] ppocr INFO: Predicts of ./output_detection_rotated/1a7296dbb22748e49b656df5cc6743b5.jpg:('延年收厚', 0.9985939264297485)\n",
            "[2024/08/31 17:55:16] ppocr INFO: Predicts of ./output_detection_rotated/1b094caec3984b8eb1c929b60a8d2b08.jpg:('朝育难酬顧後恩', 0.748389720916748)\n",
            "[2024/08/31 17:55:16] ppocr INFO: Predicts of ./output_detection_rotated/1b648fd456b54ea5a6a4ff1222b95bad.jpg:('陶弘试玄霜务', 0.7878008484840393)\n",
            "[2024/08/31 17:55:16] ppocr INFO: Predicts of ./output_detection_rotated/1b7b10992eb040d19fcfcadb745d1aa0.jpg:('請佛同仰蓮花臺藏大慈尊', 0.9287830591201782)\n",
            "[2024/08/31 17:55:16] ppocr INFO: Predicts of ./output_detection_rotated/1be6c13d483c41e6809a843fb9f1e913.jpg:('八帝立功國史', 0.9683381915092468)\n",
            "[2024/08/31 17:55:16] ppocr INFO: Predicts of ./output_detection_rotated/1bf527e50d2447098ef82c510e5dab4d.jpg:('光莉裕暖科家慶', 0.5777396559715271)\n",
            "[2024/08/31 17:55:16] ppocr INFO: Predicts of ./output_detection_rotated/1c2ae1260936415b97b01f862f35b000.jpg:('聖德日昭如正直明而一', 0.9932176470756531)\n",
            "[2024/08/31 17:55:16] ppocr INFO: Predicts of ./output_detection_rotated/1c4b01c53a2c4b2e8a76a9f77ab12616.jpg:('千秋心法啟傳', 0.981769323348999)\n",
            "[2024/08/31 17:55:16] ppocr INFO: Predicts of ./output_detection_rotated/1d47d147b0d94629bc23065156b3804e.jpg:('藥舍鐘英基', 0.7728409171104431)\n",
            "[2024/08/31 17:55:16] ppocr INFO: Predicts of ./output_detection_rotated/1e430e63da3f4600a99d57f9f0f522cd.jpg:('賢舟继案最為雅', 0.49266451597213745)\n",
            "[2024/08/31 17:55:16] ppocr INFO: Predicts of ./output_detection_rotated/1eca49e4eaa34db98a48ae23eb6e281e.jpg:('大宋小占無不服', 0.9897776246070862)\n",
            "[2024/08/31 17:55:16] ppocr INFO: Predicts of ./output_detection_rotated/1ecfb49531174acab9339f2ffb83c75f.jpg:('一母儀堪后神靈赫濯永千秋', 0.9480187296867371)\n",
            "[2024/08/31 17:55:16] ppocr INFO: Predicts of ./output_detection_rotated/1ed8a315055b47ee88a8fae54572058d.jpg:('仰世德周根生出兩三枝', 0.9469203948974609)\n",
            "[2024/08/31 17:55:16] ppocr INFO: Predicts of ./output_detection_rotated/1ee3f611b1464b8186efd702889f74da.jpg:('雲潤流清磨', 0.7620993256568909)\n",
            "[2024/08/31 17:55:16] ppocr INFO: Predicts of ./output_detection_rotated/1f21b18879ad4f108421babd1bcf405d.jpg:('千秋正氣戴山河', 0.9401738047599792)\n",
            "[2024/08/31 17:55:16] ppocr INFO: Predicts of ./output_detection_rotated/1f318192afe1431f9ce36713cf6b745a.jpg:('變出火宅作清游長者隨機绿對', 0.897730827331543)\n",
            "[2024/08/31 17:55:16] ppocr INFO: Predicts of ./output_detection_rotated/2a311d177e1f4c8daf3eb2803e1fd0fa.jpg:('修身已得为深功', 0.9972106218338013)\n",
            "[2024/08/31 17:55:16] ppocr INFO: Predicts of ./output_detection_rotated/2b4a2fc826ee4f828bada58e5407dcfe.jpg:('百年德樹發名花', 0.8364805579185486)\n",
            "[2024/08/31 17:55:16] ppocr INFO: Predicts of ./output_detection_rotated/2cea7f19b8904e38862bd1c337c9dbed.jpg:('兼父母庇方民億年香火', 0.9531306028366089)\n",
            "[2024/08/31 17:55:16] ppocr INFO: Latency: 25.48585767331331 ms\n",
            "result: {'./output_detection_rotated/02b02efc5d6b4579a0cae31e1e362555.jpg': '光飛以安邦寶劍秋藏湯色近', './output_detection_rotated/0ff04276ca994b12a50f51f88a9373fc.jpg': '天太平文官不爱钱官不惜死', './output_detection_rotated/1a2291615b4e4c288a152b4886ac300e.jpg': '鴻飛歸結以來永傳留國祖', './output_detection_rotated/1a5634d0281b4b1aac6e616826c30d4b.jpg': '家慶有裕波同', './output_detection_rotated/1a7296dbb22748e49b656df5cc6743b5.jpg': '延年收厚', './output_detection_rotated/1b094caec3984b8eb1c929b60a8d2b08.jpg': '朝育难酬顧後恩', './output_detection_rotated/1b648fd456b54ea5a6a4ff1222b95bad.jpg': '陶弘试玄霜务', './output_detection_rotated/1b7b10992eb040d19fcfcadb745d1aa0.jpg': '請佛同仰蓮花臺藏大慈尊', './output_detection_rotated/1be6c13d483c41e6809a843fb9f1e913.jpg': '八帝立功國史', './output_detection_rotated/1bf527e50d2447098ef82c510e5dab4d.jpg': '光莉裕暖科家慶', './output_detection_rotated/1c2ae1260936415b97b01f862f35b000.jpg': '聖德日昭如正直明而一', './output_detection_rotated/1c4b01c53a2c4b2e8a76a9f77ab12616.jpg': '千秋心法啟傳', './output_detection_rotated/1d47d147b0d94629bc23065156b3804e.jpg': '藥舍鐘英基', './output_detection_rotated/1e430e63da3f4600a99d57f9f0f522cd.jpg': '賢舟继案最為雅', './output_detection_rotated/1eca49e4eaa34db98a48ae23eb6e281e.jpg': '大宋小占無不服', './output_detection_rotated/1ecfb49531174acab9339f2ffb83c75f.jpg': '一母儀堪后神靈赫濯永千秋', './output_detection_rotated/1ed8a315055b47ee88a8fae54572058d.jpg': '仰世德周根生出兩三枝', './output_detection_rotated/1ee3f611b1464b8186efd702889f74da.jpg': '雲潤流清磨', './output_detection_rotated/1f21b18879ad4f108421babd1bcf405d.jpg': '千秋正氣戴山河', './output_detection_rotated/1f318192afe1431f9ce36713cf6b745a.jpg': '變出火宅作清游長者隨機绿對', './output_detection_rotated/2a311d177e1f4c8daf3eb2803e1fd0fa.jpg': '修身已得为深功', './output_detection_rotated/2b4a2fc826ee4f828bada58e5407dcfe.jpg': '百年德樹發名花', './output_detection_rotated/2cea7f19b8904e38862bd1c337c9dbed.jpg': '兼父母庇方民億年香火'}\n"
          ]
        }
      ],
      "source": [
        "!python3 main.py"
      ]
    },
    {
      "cell_type": "code",
      "execution_count": null,
      "metadata": {
        "id": "I8EcbCysY3S3"
      },
      "outputs": [],
      "source": [
        "!rm -rf ./output_detection_rotated\n",
        "!rm -rf ./output_detection"
      ]
    },
    {
      "cell_type": "markdown",
      "metadata": {
        "id": "1zztmf_4dKL3"
      },
      "source": [
        "# Running using streamlit\n",
        "Tutorial: https://www.youtube.com/watch?v=CzG1_S8mcFc"
      ]
    },
    {
      "cell_type": "code",
      "execution_count": 5,
      "metadata": {
        "colab": {
          "base_uri": "https://localhost:8080/"
        },
        "id": "MquJK4JwdMKX",
        "outputId": "5be1916f-9360-4bca-a64f-61fe825bc6a0"
      },
      "outputs": [
        {
          "name": "stdout",
          "output_type": "stream",
          "text": [
            "\u001b[?25l   \u001b[90m━━━━━━━━━━━━━━━━━━━━━━━━━━━━━━━━━━━━━━━━\u001b[0m \u001b[32m0.0/8.7 MB\u001b[0m \u001b[31m?\u001b[0m eta \u001b[36m-:--:--\u001b[0m\r\u001b[2K   \u001b[91m━━━━━━━\u001b[0m\u001b[91m╸\u001b[0m\u001b[90m━━━━━━━━━━━━━━━━━━━━━━━━━━━━━━━━\u001b[0m \u001b[32m1.7/8.7 MB\u001b[0m \u001b[31m51.9 MB/s\u001b[0m eta \u001b[36m0:00:01\u001b[0m\r\u001b[2K   \u001b[91m━━━━━━━━━━━━━━━━━━━━━━━━━━━━━━━━━━━━━━\u001b[0m\u001b[90m╺\u001b[0m\u001b[90m━\u001b[0m \u001b[32m8.3/8.7 MB\u001b[0m \u001b[31m121.2 MB/s\u001b[0m eta \u001b[36m0:00:01\u001b[0m\r\u001b[2K   \u001b[91m━━━━━━━━━━━━━━━━━━━━━━━━━━━━━━━━━━━━━━━\u001b[0m\u001b[91m╸\u001b[0m \u001b[32m8.7/8.7 MB\u001b[0m \u001b[31m119.9 MB/s\u001b[0m eta \u001b[36m0:00:01\u001b[0m\r\u001b[2K   \u001b[90m━━━━━━━━━━━━━━━━━━━━━━━━━━━━━━━━━━━━━━━━\u001b[0m \u001b[32m8.7/8.7 MB\u001b[0m \u001b[31m80.2 MB/s\u001b[0m eta \u001b[36m0:00:00\u001b[0m\n",
            "\u001b[2K   \u001b[90m━━━━━━━━━━━━━━━━━━━━━━━━━━━━━━━━━━━━━━━━\u001b[0m \u001b[32m207.3/207.3 kB\u001b[0m \u001b[31m18.4 MB/s\u001b[0m eta \u001b[36m0:00:00\u001b[0m\n",
            "\u001b[2K   \u001b[90m━━━━━━━━━━━━━━━━━━━━━━━━━━━━━━━━━━━━━━━━\u001b[0m \u001b[32m6.9/6.9 MB\u001b[0m \u001b[31m106.7 MB/s\u001b[0m eta \u001b[36m0:00:00\u001b[0m\n",
            "\u001b[2K   \u001b[90m━━━━━━━━━━━━━━━━━━━━━━━━━━━━━━━━━━━━━━━━\u001b[0m \u001b[32m82.9/82.9 kB\u001b[0m \u001b[31m7.5 MB/s\u001b[0m eta \u001b[36m0:00:00\u001b[0m\n",
            "\u001b[2K   \u001b[90m━━━━━━━━━━━━━━━━━━━━━━━━━━━━━━━━━━━━━━━━\u001b[0m \u001b[32m62.7/62.7 kB\u001b[0m \u001b[31m5.8 MB/s\u001b[0m eta \u001b[36m0:00:00\u001b[0m\n",
            "\u001b[?25h"
          ]
        }
      ],
      "source": [
        "!pip install -q streamlit"
      ]
    },
    {
      "cell_type": "code",
      "execution_count": 6,
      "metadata": {
        "colab": {
          "base_uri": "https://localhost:8080/"
        },
        "id": "1NT0gfXkdfvI",
        "outputId": "07fec7ed-a6c7-448a-dfac-551393cbf51d"
      },
      "outputs": [
        {
          "name": "stdout",
          "output_type": "stream",
          "text": [
            "34.105.35.179\n"
          ]
        }
      ],
      "source": [
        "! wget -q -O - ipv4.icanhazip.com # paste the port below into the box when run the command below"
      ]
    },
    {
      "cell_type": "code",
      "execution_count": null,
      "metadata": {
        "colab": {
          "base_uri": "https://localhost:8080/"
        },
        "id": "x5M1iyFJd9Pi",
        "outputId": "b4703f4a-792f-4901-f13a-d4565e497274"
      },
      "outputs": [
        {
          "name": "stdout",
          "output_type": "stream",
          "text": [
            "\n",
            "Collecting usage statistics. To deactivate, set browser.gatherUsageStats to false.\n",
            "\u001b[0m\n",
            "\u001b[0m\n",
            "\u001b[34m\u001b[1m  You can now view your Streamlit app in your browser.\u001b[0m\n",
            "\u001b[0m\n",
            "\u001b[34m  Local URL: \u001b[0m\u001b[1mhttp://localhost:8501\u001b[0m\n",
            "\u001b[34m  Network URL: \u001b[0m\u001b[1mhttp://172.28.0.12:8501\u001b[0m\n",
            "\u001b[34m  External URL: \u001b[0m\u001b[1mhttp://34.105.35.179:8501\u001b[0m\n",
            "\u001b[0m\n",
            "your url is: https://tricky-dots-yawn.loca.lt\n",
            "\n",
            "image 1/1 /tmp/tmp4kdds8nz/tmpwev0uiag.jpg: 640x640 2 couplets, 35.7ms\n",
            "Speed: 3.3ms preprocess, 35.7ms inference, 2.9ms postprocess per image at shape (1, 3, 640, 640)\n",
            "Results saved to \u001b[1m/content/yolov10/runs/detect/predict\u001b[0m\n",
            "1 label saved to /content/yolov10/runs/detect/predict/labels\n",
            "[2024/09/03 11:14:38] ppocr WARNING: The first GPU is used for inference by default, GPU ID: 0\n",
            "[2024/09/03 11:14:40] ppocr INFO: In PP-OCRv3, rec_image_shape parameter defaults to '3, 48, 320', if you are using recognition model with PP-OCRv2 or an older version, please set --rec_image_shape='3,32,320\n",
            "[2024/09/03 11:14:40] ppocr INFO: Predicts of /tmp/tmpj2y6aw9h/tmpwev0uiag_1440.jpg:('雲潤流清磨', 0.7589268684387207)\n",
            "[2024/09/03 11:14:40] ppocr INFO: Predicts of /tmp/tmpj2y6aw9h/tmpwev0uiag_217.jpg:('樹裹寒聲演法華', 0.9581332206726074)\n",
            "[2024/09/03 11:14:40] ppocr INFO: Latency: 140.6261920928955 ms\n",
            "results: {'/tmp/tmpj2y6aw9h/tmpwev0uiag_1440.jpg': '雲潤流清磨', '/tmp/tmpj2y6aw9h/tmpwev0uiag_217.jpg': '樹裹寒聲演法華'}\n",
            "\n",
            "image 1/1 /tmp/tmp74d94gjs/tmp1wiv0tw_.jpg: 640x480 4 couplets, 71.9ms\n",
            "Speed: 2.1ms preprocess, 71.9ms inference, 1.0ms postprocess per image at shape (1, 3, 640, 480)\n",
            "Results saved to \u001b[1m/content/yolov10/runs/detect/predict2\u001b[0m\n",
            "1 label saved to /content/yolov10/runs/detect/predict2/labels\n",
            "[2024/09/03 11:14:58] ppocr WARNING: The first GPU is used for inference by default, GPU ID: 0\n",
            "[2024/09/03 11:15:01] ppocr INFO: In PP-OCRv3, rec_image_shape parameter defaults to '3, 48, 320', if you are using recognition model with PP-OCRv2 or an older version, please set --rec_image_shape='3,32,320\n",
            "[2024/09/03 11:15:01] ppocr INFO: Predicts of /tmp/tmp2cqvhzzv/tmp1wiv0tw__114.jpg:('得各得禄一堂伯氏共達輝', 0.9001381397247314)\n",
            "[2024/09/03 11:15:01] ppocr INFO: Predicts of /tmp/tmp2cqvhzzv/tmp1wiv0tw__227.jpg:('日壽日康两姓豪花相出', 0.9251959919929504)\n",
            "[2024/09/03 11:15:01] ppocr INFO: Predicts of /tmp/tmp2cqvhzzv/tmp1wiv0tw__367.jpg:('朝育难酬顧後恩', 0.7377879023551941)\n",
            "[2024/09/03 11:15:01] ppocr INFO: Predicts of /tmp/tmp2cqvhzzv/tmp1wiv0tw__457.jpg:('栽培永念生成德', 0.9632397294044495)\n",
            "[2024/09/03 11:15:01] ppocr INFO: Latency: 22.820115089416504 ms\n",
            "results: {'/tmp/tmp2cqvhzzv/tmp1wiv0tw__114.jpg': '得各得禄一堂伯氏共達輝', '/tmp/tmp2cqvhzzv/tmp1wiv0tw__227.jpg': '日壽日康两姓豪花相出', '/tmp/tmp2cqvhzzv/tmp1wiv0tw__367.jpg': '朝育难酬顧後恩', '/tmp/tmp2cqvhzzv/tmp1wiv0tw__457.jpg': '栽培永念生成德'}\n"
          ]
        }
      ],
      "source": [
        "! streamlit run app_streamlit.py & npx localtunnel --port 8501"
      ]
    }
  ],
  "metadata": {
    "accelerator": "GPU",
    "colab": {
      "collapsed_sections": [
        "FX3-RpFPl2wC",
        "EH-UJpWvmloz",
        "E3Xm-7Gl2rBo",
        "MGuU7CGgXIhq"
      ],
      "gpuType": "T4",
      "provenance": []
    },
    "kernelspec": {
      "display_name": "Python 3",
      "name": "python3"
    },
    "language_info": {
      "name": "python"
    }
  },
  "nbformat": 4,
  "nbformat_minor": 0
}
