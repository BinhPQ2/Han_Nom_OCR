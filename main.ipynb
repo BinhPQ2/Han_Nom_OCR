{
  "cells": [
    {
      "cell_type": "markdown",
      "metadata": {
        "id": "RU4nZHN0Tsyt"
      },
      "source": [
        "# Download weight"
      ]
    },
    {
      "cell_type": "code",
      "source": [
        "# Delete all files and folders in the current directory. Use with caution!\n",
        "import shutil\n",
        "shutil.rmtree('./', ignore_errors=True)"
      ],
      "metadata": {
        "id": "Kg6U3eJhUHbE"
      },
      "execution_count": 1,
      "outputs": []
    },
    {
      "cell_type": "code",
      "execution_count": 2,
      "metadata": {
        "colab": {
          "base_uri": "https://localhost:8080/"
        },
        "id": "bEFCR7eQTsy0",
        "outputId": "c4b15a85-6959-4ef7-a497-aed58ef35d01"
      },
      "outputs": [
        {
          "output_type": "stream",
          "name": "stdout",
          "text": [
            "Cloning into '.'...\n",
            "remote: Enumerating objects: 159, done.\u001b[K\n",
            "remote: Counting objects: 100% (159/159), done.\u001b[K\n",
            "remote: Compressing objects: 100% (130/130), done.\u001b[K\n",
            "remote: Total 159 (delta 20), reused 155 (delta 19), pack-reused 0 (from 0)\u001b[K\n",
            "Receiving objects: 100% (159/159), 8.86 MiB | 37.78 MiB/s, done.\n",
            "Resolving deltas: 100% (20/20), done.\n",
            "Cloning into 'yolov10'...\n",
            "remote: Enumerating objects: 20329, done.\u001b[K\n",
            "remote: Counting objects: 100% (2443/2443), done.\u001b[K\n",
            "remote: Compressing objects: 100% (247/247), done.\u001b[K\n",
            "remote: Total 20329 (delta 2315), reused 2196 (delta 2196), pack-reused 17886 (from 1)\u001b[K\n",
            "Receiving objects: 100% (20329/20329), 11.14 MiB | 17.77 MiB/s, done.\n",
            "Resolving deltas: 100% (14335/14335), done.\n"
          ]
        }
      ],
      "source": [
        "!git clone https://github.com/BinhPQ2/Han_Nom_OCR.git .\n",
        "!git clone https://github.com/THU-MIG/yolov10.git"
      ]
    },
    {
      "cell_type": "code",
      "execution_count": 3,
      "metadata": {
        "colab": {
          "base_uri": "https://localhost:8080/"
        },
        "collapsed": true,
        "id": "yg9kGcYzmpOD",
        "outputId": "2f26c923-0db7-4583-e0ed-cc72a21d744a"
      },
      "outputs": [
        {
          "output_type": "stream",
          "name": "stdout",
          "text": [
            "/usr/local/lib/python3.10/dist-packages/gdown/__main__.py:132: FutureWarning: Option `--id` was deprecated in version 4.3.1 and will be removed in 5.0. You don't need to pass it anymore to use a file ID.\n",
            "  warnings.warn(\n",
            "Downloading...\n",
            "From (original): https://drive.google.com/uc?id=11VxsyUVmdH8yD3MtQT-t4I2q9YIvkp3w\n",
            "From (redirected): https://drive.google.com/uc?id=11VxsyUVmdH8yD3MtQT-t4I2q9YIvkp3w&confirm=t&uuid=35643ba6-466e-49ad-9c5a-7adb30b98c41\n",
            "To: /content/file.zip\n",
            "100% 262M/262M [00:00<00:00, 271MB/s]\n"
          ]
        }
      ],
      "source": [
        "!gdown --id 11VxsyUVmdH8yD3MtQT-t4I2q9YIvkp3w -O file.zip\n",
        "!unzip -q file.zip"
      ]
    },
    {
      "cell_type": "markdown",
      "metadata": {
        "id": "ZF7pyCtamlom"
      },
      "source": [
        "# Detection"
      ]
    },
    {
      "cell_type": "code",
      "execution_count": 4,
      "metadata": {
        "colab": {
          "base_uri": "https://localhost:8080/"
        },
        "collapsed": true,
        "id": "uF974fhumlot",
        "outputId": "96f98979-7bbb-407c-e0bb-050859724638"
      },
      "outputs": [
        {
          "output_type": "stream",
          "name": "stdout",
          "text": [
            "\u001b[2K     \u001b[90m━━━━━━━━━━━━━━━━━━━━━━━━━━━━━━━━━━━━━━━━\u001b[0m \u001b[32m60.6/60.6 kB\u001b[0m \u001b[31m3.2 MB/s\u001b[0m eta \u001b[36m0:00:00\u001b[0m\n",
            "\u001b[2K     \u001b[90m━━━━━━━━━━━━━━━━━━━━━━━━━━━━━━━━━━━━━━━━\u001b[0m \u001b[32m50.4/50.4 kB\u001b[0m \u001b[31m3.5 MB/s\u001b[0m eta \u001b[36m0:00:00\u001b[0m\n",
            "\u001b[2K   \u001b[90m━━━━━━━━━━━━━━━━━━━━━━━━━━━━━━━━━━━━━━━━\u001b[0m \u001b[32m619.9/619.9 MB\u001b[0m \u001b[31m2.7 MB/s\u001b[0m eta \u001b[36m0:00:00\u001b[0m\n",
            "\u001b[2K   \u001b[90m━━━━━━━━━━━━━━━━━━━━━━━━━━━━━━━━━━━━━━━━\u001b[0m \u001b[32m6.0/6.0 MB\u001b[0m \u001b[31m69.2 MB/s\u001b[0m eta \u001b[36m0:00:00\u001b[0m\n",
            "\u001b[2K   \u001b[90m━━━━━━━━━━━━━━━━━━━━━━━━━━━━━━━━━━━━━━━━\u001b[0m \u001b[32m14.6/14.6 MB\u001b[0m \u001b[31m59.6 MB/s\u001b[0m eta \u001b[36m0:00:00\u001b[0m\n",
            "\u001b[2K   \u001b[90m━━━━━━━━━━━━━━━━━━━━━━━━━━━━━━━━━━━━━━━━\u001b[0m \u001b[32m5.9/5.9 MB\u001b[0m \u001b[31m60.9 MB/s\u001b[0m eta \u001b[36m0:00:00\u001b[0m\n",
            "\u001b[2K   \u001b[90m━━━━━━━━━━━━━━━━━━━━━━━━━━━━━━━━━━━━━━━━\u001b[0m \u001b[32m426.2/426.2 kB\u001b[0m \u001b[31m29.8 MB/s\u001b[0m eta \u001b[36m0:00:00\u001b[0m\n",
            "\u001b[2K   \u001b[90m━━━━━━━━━━━━━━━━━━━━━━━━━━━━━━━━━━━━━━━━\u001b[0m \u001b[32m705.5/705.5 kB\u001b[0m \u001b[31m39.7 MB/s\u001b[0m eta \u001b[36m0:00:00\u001b[0m\n",
            "\u001b[2K   \u001b[90m━━━━━━━━━━━━━━━━━━━━━━━━━━━━━━━━━━━━━━━━\u001b[0m \u001b[32m38.6/38.6 MB\u001b[0m \u001b[31m15.2 MB/s\u001b[0m eta \u001b[36m0:00:00\u001b[0m\n",
            "\u001b[2K   \u001b[90m━━━━━━━━━━━━━━━━━━━━━━━━━━━━━━━━━━━━━━━━\u001b[0m \u001b[32m2.3/2.3 MB\u001b[0m \u001b[31m78.8 MB/s\u001b[0m eta \u001b[36m0:00:00\u001b[0m\n",
            "\u001b[2K   \u001b[90m━━━━━━━━━━━━━━━━━━━━━━━━━━━━━━━━━━━━━━━━\u001b[0m \u001b[32m199.8/199.8 MB\u001b[0m \u001b[31m5.8 MB/s\u001b[0m eta \u001b[36m0:00:00\u001b[0m\n",
            "\u001b[2K   \u001b[90m━━━━━━━━━━━━━━━━━━━━━━━━━━━━━━━━━━━━━━━━\u001b[0m \u001b[32m12.3/12.3 MB\u001b[0m \u001b[31m87.3 MB/s\u001b[0m eta \u001b[36m0:00:00\u001b[0m\n",
            "\u001b[2K   \u001b[90m━━━━━━━━━━━━━━━━━━━━━━━━━━━━━━━━━━━━━━━━\u001b[0m \u001b[32m62.2/62.2 MB\u001b[0m \u001b[31m11.5 MB/s\u001b[0m eta \u001b[36m0:00:00\u001b[0m\n",
            "\u001b[2K   \u001b[90m━━━━━━━━━━━━━━━━━━━━━━━━━━━━━━━━━━━━━━━━\u001b[0m \u001b[32m288.2/288.2 kB\u001b[0m \u001b[31m24.0 MB/s\u001b[0m eta \u001b[36m0:00:00\u001b[0m\n",
            "\u001b[2K   \u001b[90m━━━━━━━━━━━━━━━━━━━━━━━━━━━━━━━━━━━━━━━━\u001b[0m \u001b[32m401.7/401.7 kB\u001b[0m \u001b[31m29.4 MB/s\u001b[0m eta \u001b[36m0:00:00\u001b[0m\n",
            "\u001b[2K   \u001b[90m━━━━━━━━━━━━━━━━━━━━━━━━━━━━━━━━━━━━━━━━\u001b[0m \u001b[32m1.2/1.2 MB\u001b[0m \u001b[31m57.4 MB/s\u001b[0m eta \u001b[36m0:00:00\u001b[0m\n",
            "\u001b[2K   \u001b[90m━━━━━━━━━━━━━━━━━━━━━━━━━━━━━━━━━━━━━━━━\u001b[0m \u001b[32m315.9/315.9 kB\u001b[0m \u001b[31m25.6 MB/s\u001b[0m eta \u001b[36m0:00:00\u001b[0m\n",
            "\u001b[2K   \u001b[90m━━━━━━━━━━━━━━━━━━━━━━━━━━━━━━━━━━━━━━━━\u001b[0m \u001b[32m317.1/317.1 MB\u001b[0m \u001b[31m4.2 MB/s\u001b[0m eta \u001b[36m0:00:00\u001b[0m\n",
            "\u001b[2K   \u001b[90m━━━━━━━━━━━━━━━━━━━━━━━━━━━━━━━━━━━━━━━━\u001b[0m \u001b[32m11.8/11.8 MB\u001b[0m \u001b[31m62.1 MB/s\u001b[0m eta \u001b[36m0:00:00\u001b[0m\n",
            "\u001b[2K   \u001b[90m━━━━━━━━━━━━━━━━━━━━━━━━━━━━━━━━━━━━━━━━\u001b[0m \u001b[32m21.0/21.0 MB\u001b[0m \u001b[31m52.6 MB/s\u001b[0m eta \u001b[36m0:00:00\u001b[0m\n",
            "\u001b[2K   \u001b[90m━━━━━━━━━━━━━━━━━━━━━━━━━━━━━━━━━━━━━━━━\u001b[0m \u001b[32m849.3/849.3 kB\u001b[0m \u001b[31m44.4 MB/s\u001b[0m eta \u001b[36m0:00:00\u001b[0m\n",
            "\u001b[2K   \u001b[90m━━━━━━━━━━━━━━━━━━━━━━━━━━━━━━━━━━━━━━━━\u001b[0m \u001b[32m557.1/557.1 MB\u001b[0m \u001b[31m3.1 MB/s\u001b[0m eta \u001b[36m0:00:00\u001b[0m\n",
            "\u001b[2K   \u001b[90m━━━━━━━━━━━━━━━━━━━━━━━━━━━━━━━━━━━━━━━━\u001b[0m \u001b[32m168.4/168.4 MB\u001b[0m \u001b[31m6.0 MB/s\u001b[0m eta \u001b[36m0:00:00\u001b[0m\n",
            "\u001b[2K   \u001b[90m━━━━━━━━━━━━━━━━━━━━━━━━━━━━━━━━━━━━━━━━\u001b[0m \u001b[32m54.6/54.6 MB\u001b[0m \u001b[31m11.3 MB/s\u001b[0m eta \u001b[36m0:00:00\u001b[0m\n",
            "\u001b[2K   \u001b[90m━━━━━━━━━━━━━━━━━━━━━━━━━━━━━━━━━━━━━━━━\u001b[0m \u001b[32m102.6/102.6 MB\u001b[0m \u001b[31m8.4 MB/s\u001b[0m eta \u001b[36m0:00:00\u001b[0m\n",
            "\u001b[2K   \u001b[90m━━━━━━━━━━━━━━━━━━━━━━━━━━━━━━━━━━━━━━━━\u001b[0m \u001b[32m173.2/173.2 MB\u001b[0m \u001b[31m6.4 MB/s\u001b[0m eta \u001b[36m0:00:00\u001b[0m\n",
            "\u001b[2K   \u001b[90m━━━━━━━━━━━━━━━━━━━━━━━━━━━━━━━━━━━━━━━━\u001b[0m \u001b[32m177.1/177.1 MB\u001b[0m \u001b[31m6.3 MB/s\u001b[0m eta \u001b[36m0:00:00\u001b[0m\n",
            "\u001b[2K   \u001b[90m━━━━━━━━━━━━━━━━━━━━━━━━━━━━━━━━━━━━━━━━\u001b[0m \u001b[32m98.6/98.6 kB\u001b[0m \u001b[31m7.4 MB/s\u001b[0m eta \u001b[36m0:00:00\u001b[0m\n",
            "\u001b[2K   \u001b[90m━━━━━━━━━━━━━━━━━━━━━━━━━━━━━━━━━━━━━━━━\u001b[0m \u001b[32m63.3/63.3 MB\u001b[0m \u001b[31m12.3 MB/s\u001b[0m eta \u001b[36m0:00:00\u001b[0m\n",
            "\u001b[2K   \u001b[90m━━━━━━━━━━━━━━━━━━━━━━━━━━━━━━━━━━━━━━━━\u001b[0m \u001b[32m135.7/135.7 kB\u001b[0m \u001b[31m10.5 MB/s\u001b[0m eta \u001b[36m0:00:00\u001b[0m\n",
            "\u001b[2K   \u001b[90m━━━━━━━━━━━━━━━━━━━━━━━━━━━━━━━━━━━━━━━━\u001b[0m \u001b[32m76.4/76.4 kB\u001b[0m \u001b[31m6.1 MB/s\u001b[0m eta \u001b[36m0:00:00\u001b[0m\n",
            "\u001b[2K   \u001b[90m━━━━━━━━━━━━━━━━━━━━━━━━━━━━━━━━━━━━━━━━\u001b[0m \u001b[32m77.9/77.9 kB\u001b[0m \u001b[31m6.3 MB/s\u001b[0m eta \u001b[36m0:00:00\u001b[0m\n",
            "\u001b[2K   \u001b[90m━━━━━━━━━━━━━━━━━━━━━━━━━━━━━━━━━━━━━━━━\u001b[0m \u001b[32m141.9/141.9 kB\u001b[0m \u001b[31m11.8 MB/s\u001b[0m eta \u001b[36m0:00:00\u001b[0m\n",
            "\u001b[2K   \u001b[90m━━━━━━━━━━━━━━━━━━━━━━━━━━━━━━━━━━━━━━━━\u001b[0m \u001b[32m10.3/10.3 MB\u001b[0m \u001b[31m71.3 MB/s\u001b[0m eta \u001b[36m0:00:00\u001b[0m\n",
            "\u001b[2K   \u001b[90m━━━━━━━━━━━━━━━━━━━━━━━━━━━━━━━━━━━━━━━━\u001b[0m \u001b[32m62.8/62.8 kB\u001b[0m \u001b[31m5.2 MB/s\u001b[0m eta \u001b[36m0:00:00\u001b[0m\n",
            "\u001b[2K   \u001b[90m━━━━━━━━━━━━━━━━━━━━━━━━━━━━━━━━━━━━━━━━\u001b[0m \u001b[32m46.0/46.0 kB\u001b[0m \u001b[31m3.6 MB/s\u001b[0m eta \u001b[36m0:00:00\u001b[0m\n",
            "\u001b[2K   \u001b[90m━━━━━━━━━━━━━━━━━━━━━━━━━━━━━━━━━━━━━━━━\u001b[0m \u001b[32m93.5/93.5 kB\u001b[0m \u001b[31m8.0 MB/s\u001b[0m eta \u001b[36m0:00:00\u001b[0m\n",
            "\u001b[2K   \u001b[90m━━━━━━━━━━━━━━━━━━━━━━━━━━━━━━━━━━━━━━━━\u001b[0m \u001b[32m58.3/58.3 kB\u001b[0m \u001b[31m4.4 MB/s\u001b[0m eta \u001b[36m0:00:00\u001b[0m\n",
            "\u001b[2K   \u001b[90m━━━━━━━━━━━━━━━━━━━━━━━━━━━━━━━━━━━━━━━━\u001b[0m \u001b[32m86.8/86.8 kB\u001b[0m \u001b[31m7.3 MB/s\u001b[0m eta \u001b[36m0:00:00\u001b[0m\n",
            "\u001b[2K   \u001b[90m━━━━━━━━━━━━━━━━━━━━━━━━━━━━━━━━━━━━━━━━\u001b[0m \u001b[32m72.0/72.0 kB\u001b[0m \u001b[31m5.8 MB/s\u001b[0m eta \u001b[36m0:00:00\u001b[0m\n",
            "\u001b[2K   \u001b[90m━━━━━━━━━━━━━━━━━━━━━━━━━━━━━━━━━━━━━━━━\u001b[0m \u001b[32m129.9/129.9 kB\u001b[0m \u001b[31m10.8 MB/s\u001b[0m eta \u001b[36m0:00:00\u001b[0m\n",
            "\u001b[2K   \u001b[90m━━━━━━━━━━━━━━━━━━━━━━━━━━━━━━━━━━━━━━━━\u001b[0m \u001b[32m96.4/96.4 kB\u001b[0m \u001b[31m7.7 MB/s\u001b[0m eta \u001b[36m0:00:00\u001b[0m\n",
            "\u001b[?25h\u001b[31mERROR: pip's dependency resolver does not currently take into account all the packages that are installed. This behaviour is the source of the following dependency conflicts.\n",
            "torchaudio 2.4.0+cu121 requires torch==2.4.0, but you have torch 2.0.1 which is incompatible.\u001b[0m\u001b[31m\n",
            "\u001b[0m  Installing build dependencies ... \u001b[?25l\u001b[?25hdone\n",
            "  Checking if build backend supports build_editable ... \u001b[?25l\u001b[?25hdone\n",
            "  Getting requirements to build editable ... \u001b[?25l\u001b[?25hdone\n",
            "  Preparing editable metadata (pyproject.toml) ... \u001b[?25l\u001b[?25hdone\n",
            "  Building editable for ultralytics (pyproject.toml) ... \u001b[?25l\u001b[?25hdone\n"
          ]
        }
      ],
      "source": [
        "!pip install -q -r requirements.txt\n",
        "!pip install -q -e ./yolov10/\n",
        "# !pip install supervision -q # already included in the requirement.txt\n",
        "# !pip install ultralytics -q"
      ]
    },
    {
      "cell_type": "code",
      "execution_count": 5,
      "metadata": {
        "colab": {
          "base_uri": "https://localhost:8080/"
        },
        "id": "uBWvsxc5qasr",
        "outputId": "988e3632-fd2e-4956-b4d5-7650a8ae4d5d"
      },
      "outputs": [
        {
          "output_type": "stream",
          "name": "stdout",
          "text": [
            "Name: ultralytics\n",
            "Version: 8.1.34\n",
            "Summary: Ultralytics YOLOv8 for SOTA object detection, multi-object tracking, instance segmentation, pose estimation and image classification.\n",
            "Home-page: \n",
            "Author: Glenn Jocher, Ayush Chaurasia, Jing Qiu\n",
            "Author-email: \n",
            "License: AGPL-3.0\n",
            "Location: /usr/local/lib/python3.10/dist-packages\n",
            "Editable project location: /content/yolov10\n",
            "Requires: matplotlib, opencv-python, pandas, pillow, psutil, py-cpuinfo, pyyaml, requests, scipy, seaborn, thop, torch, torchvision, tqdm\n",
            "Required-by: \n"
          ]
        }
      ],
      "source": [
        "!pip show ultralytics"
      ]
    },
    {
      "cell_type": "code",
      "execution_count": 4,
      "metadata": {
        "id": "mfyx-nX8mlov"
      },
      "outputs": [],
      "source": [
        "import os\n",
        "import random\n",
        "import numpy as np\n",
        "from tqdm import tqdm\n",
        "import pickle\n",
        "import cv2\n",
        "import supervision as sv\n",
        "import matplotlib.pyplot as plt\n",
        "from ultralytics import YOLOv10 # rerun session if it has error in this library"
      ]
    },
    {
      "cell_type": "code",
      "execution_count": 5,
      "metadata": {
        "id": "R4wQsmD_mlow"
      },
      "outputs": [],
      "source": [
        "def save_crop(result, save_path):\n",
        "    os.makedirs(save_path, exist_ok=True)\n",
        "\n",
        "    conf_s = result.boxes.conf.detach().cpu().numpy()\n",
        "    xyxy_s = result.boxes.xyxy.detach().cpu().numpy()\n",
        "    idx_s = [i for i in range(len(conf_s))]\n",
        "    img_name = os.path.basename(result.path)\n",
        "    img = result.orig_img\n",
        "    for idx, conf, xyxy in zip(idx_s, conf_s, xyxy_s):\n",
        "        # name = f\"oder_{idx}__conf_{conf}__name_{img_name}\"\n",
        "        name = img_name\n",
        "\n",
        "        height=result.orig_img.shape[0]\n",
        "        width=result.orig_img.shape[1]\n",
        "\n",
        "        height_extend_ratio = 0.05\n",
        "        width_extend_ratio = 0.1\n",
        "\n",
        "        x0, y0, x1, y1 = xyxy.tolist()\n",
        "        x0 = int(max(0, x0 - width_extend_ratio*abs(x1 - x0)))\n",
        "        x1 = int(min(width, x1 + width_extend_ratio*abs(x1 - x0)))\n",
        "        y0 = int(max(0, y0 - height_extend_ratio*abs(y1 - y0)))\n",
        "        y1 = int(min(height, y1 + height_extend_ratio*abs(y1 - y0)))\n",
        "        crop_image = img[y0:y1, x0:x1]\n",
        "\n",
        "        cv2.imwrite(os.path.join(save_path, name), crop_image)"
      ]
    },
    {
      "cell_type": "code",
      "execution_count": 6,
      "metadata": {
        "colab": {
          "base_uri": "https://localhost:8080/"
        },
        "id": "itbf2N2jmloy",
        "outputId": "3515308a-c454-44bb-f7bd-d0b8cbcc4470"
      },
      "outputs": [
        {
          "output_type": "stream",
          "name": "stdout",
          "text": [
            "\n",
            "image 1/23 /content/input_image/02b02efc5d6b4579a0cae31e1e362555.jpg: 640x480 1 couplet, 67.1ms\n",
            "image 2/23 /content/input_image/0ff04276ca994b12a50f51f88a9373fc.jpg: 640x352 1 couplet, 67.5ms\n",
            "image 3/23 /content/input_image/1a2291615b4e4c288a152b4886ac300e.jpg: 640x480 1 couplet, 30.0ms\n",
            "image 4/23 /content/input_image/1a5634d0281b4b1aac6e616826c30d4b.jpg: 640x320 2 couplets, 64.4ms\n",
            "image 5/23 /content/input_image/1a7296dbb22748e49b656df5cc6743b5.jpg: 640x288 2 couplets, 65.8ms\n",
            "image 6/23 /content/input_image/1b094caec3984b8eb1c929b60a8d2b08.jpg: 640x480 4 couplets, 29.9ms\n",
            "image 7/23 /content/input_image/1b648fd456b54ea5a6a4ff1222b95bad.jpg: 640x384 1 couplet, 63.7ms\n",
            "image 8/23 /content/input_image/1b7b10992eb040d19fcfcadb745d1aa0.jpg: 640x256 1 couplet, 62.4ms\n",
            "image 9/23 /content/input_image/1be6c13d483c41e6809a843fb9f1e913.jpg: 640x480 1 couplet, 30.1ms\n",
            "image 10/23 /content/input_image/1bf527e50d2447098ef82c510e5dab4d.jpg: 640x288 1 couplet, 27.2ms\n",
            "image 11/23 /content/input_image/1c2ae1260936415b97b01f862f35b000.jpg: 640x320 1 couplet, 25.4ms\n",
            "image 12/23 /content/input_image/1c4b01c53a2c4b2e8a76a9f77ab12616.jpg: 640x480 2 couplets, 29.9ms\n",
            "image 13/23 /content/input_image/1d47d147b0d94629bc23065156b3804e.jpg: 640x480 2 couplets, 29.2ms\n",
            "image 14/23 /content/input_image/1e430e63da3f4600a99d57f9f0f522cd.jpg: 640x128 1 couplet, 66.8ms\n",
            "image 15/23 /content/input_image/1eca49e4eaa34db98a48ae23eb6e281e.jpg: 640x480 1 couplet, 30.4ms\n",
            "image 16/23 /content/input_image/1ecfb49531174acab9339f2ffb83c75f.jpg: 640x480 1 couplet, 29.4ms\n",
            "image 17/23 /content/input_image/1ed8a315055b47ee88a8fae54572058d.jpg: 640x480 1 couplet, 29.2ms\n",
            "image 18/23 /content/input_image/1ee3f611b1464b8186efd702889f74da.jpg: 640x640 2 couplets, 36.3ms\n",
            "image 19/23 /content/input_image/1f21b18879ad4f108421babd1bcf405d.jpg: 640x512 1 couplet, 69.9ms\n",
            "image 20/23 /content/input_image/1f318192afe1431f9ce36713cf6b745a.jpg: 640x448 1 couplet, 64.9ms\n",
            "image 21/23 /content/input_image/2a311d177e1f4c8daf3eb2803e1fd0fa.jpg: 640x160 1 couplet, 68.1ms\n",
            "image 22/23 /content/input_image/2b4a2fc826ee4f828bada58e5407dcfe.jpg: 640x480 1 couplet, 30.4ms\n",
            "image 23/23 /content/input_image/2cea7f19b8904e38862bd1c337c9dbed.jpg: 640x480 1 couplet, 29.3ms\n",
            "Speed: 2.7ms preprocess, 45.5ms inference, 1.0ms postprocess per image at shape (1, 3, 640, 480)\n",
            "Results saved to \u001b[1m/content/yolov10/runs/detect/predict\u001b[0m\n",
            "23 labels saved to /content/yolov10/runs/detect/predict/labels\n"
          ]
        }
      ],
      "source": [
        "input_image_folder = \"./input_image\"\n",
        "save_path = \"./output_detection\"\n",
        "model = YOLOv10('./weight/detection_yolov10.pt')\n",
        "\n",
        "results = model.predict(source=input_image_folder, conf=0.5, stream=True, save_txt=True)\n",
        "for idx, result in enumerate(results):\n",
        "    save_crop(result, save_path)"
      ]
    },
    {
      "cell_type": "code",
      "source": [
        "# prompt: Rotate all the image in ./output_detection by 90 degree counter-clockwise and save it in ./output_detection_rotated\n",
        "\n",
        "import os\n",
        "import cv2\n",
        "\n",
        "input_folder = './output_detection'\n",
        "output_folder = './output_detection_rotated'\n",
        "\n",
        "os.makedirs(output_folder, exist_ok=True)\n",
        "\n",
        "for filename in os.listdir(input_folder):\n",
        "  if filename.endswith(('.jpg', '.jpeg', '.png')):\n",
        "    img_path = os.path.join(input_folder, filename)\n",
        "    img = cv2.imread(img_path)\n",
        "    rotated_img = cv2.rotate(img, cv2.ROTATE_90_COUNTERCLOCKWISE)\n",
        "    output_path = os.path.join(output_folder, filename)\n",
        "    cv2.imwrite(output_path, rotated_img)\n"
      ],
      "metadata": {
        "id": "dJ7A596uJsbZ"
      },
      "execution_count": 7,
      "outputs": []
    },
    {
      "cell_type": "markdown",
      "metadata": {
        "id": "EH-UJpWvmloz"
      },
      "source": [
        "# Recognition"
      ]
    },
    {
      "cell_type": "code",
      "execution_count": 8,
      "metadata": {
        "colab": {
          "base_uri": "https://localhost:8080/"
        },
        "id": "Uxi_bpWUmlo0",
        "outputId": "c93c2339-378a-4dd5-a333-9203bb9254d7"
      },
      "outputs": [
        {
          "output_type": "stream",
          "name": "stdout",
          "text": [
            "\u001b[2K     \u001b[90m━━━━━━━━━━━━━━━━━━━━━━━━━━━━━━━━━━━━━━━━\u001b[0m \u001b[32m88.4/88.4 kB\u001b[0m \u001b[31m5.4 MB/s\u001b[0m eta \u001b[36m0:00:00\u001b[0m\n",
            "\u001b[?25h  Preparing metadata (setup.py) ... \u001b[?25l\u001b[?25hdone\n",
            "\u001b[2K   \u001b[90m━━━━━━━━━━━━━━━━━━━━━━━━━━━━━━━━━━━━━━━━\u001b[0m \u001b[32m407.5/407.5 kB\u001b[0m \u001b[31m16.9 MB/s\u001b[0m eta \u001b[36m0:00:00\u001b[0m\n",
            "\u001b[2K   \u001b[90m━━━━━━━━━━━━━━━━━━━━━━━━━━━━━━━━━━━━━━━━\u001b[0m \u001b[32m294.9/294.9 kB\u001b[0m \u001b[31m22.3 MB/s\u001b[0m eta \u001b[36m0:00:00\u001b[0m\n",
            "\u001b[2K   \u001b[90m━━━━━━━━━━━━━━━━━━━━━━━━━━━━━━━━━━━━━━━━\u001b[0m \u001b[32m908.3/908.3 kB\u001b[0m \u001b[31m41.1 MB/s\u001b[0m eta \u001b[36m0:00:00\u001b[0m\n",
            "\u001b[2K   \u001b[90m━━━━━━━━━━━━━━━━━━━━━━━━━━━━━━━━━━━━━━━━\u001b[0m \u001b[32m244.3/244.3 kB\u001b[0m \u001b[31m15.6 MB/s\u001b[0m eta \u001b[36m0:00:00\u001b[0m\n",
            "\u001b[2K   \u001b[90m━━━━━━━━━━━━━━━━━━━━━━━━━━━━━━━━━━━━━━━━\u001b[0m \u001b[32m3.4/3.4 MB\u001b[0m \u001b[31m94.1 MB/s\u001b[0m eta \u001b[36m0:00:00\u001b[0m\n",
            "\u001b[?25h  Building wheel for fire (setup.py) ... \u001b[?25l\u001b[?25hdone\n",
            "\u001b[2K   \u001b[90m━━━━━━━━━━━━━━━━━━━━━━━━━━━━━━━━━━━━━━━━\u001b[0m \u001b[32m758.9/758.9 MB\u001b[0m \u001b[31m1.2 MB/s\u001b[0m eta \u001b[36m0:00:00\u001b[0m\n",
            "\u001b[?25h"
          ]
        }
      ],
      "source": [
        "!pip install -q paddleocr --upgrade\n",
        "!pip install -q paddlepaddle-gpu --upgrade"
      ]
    },
    {
      "cell_type": "code",
      "execution_count": 9,
      "metadata": {
        "id": "BvOGJgFOmlo0",
        "colab": {
          "base_uri": "https://localhost:8080/"
        },
        "outputId": "e08a157a-600d-4a73-c937-b4fe19389b3c"
      },
      "outputs": [
        {
          "output_type": "stream",
          "name": "stdout",
          "text": [
            "[2024/08/27 18:58:30] ppocr WARNING: The first GPU is used for inference by default, GPU ID: 0\n",
            "[2024/08/27 18:58:34] ppocr INFO: In PP-OCRv3, rec_image_shape parameter defaults to '3, 48, 320', if you are using recognition model with PP-OCRv2 or an older version, please set --rec_image_shape='3,32,320\n",
            "[2024/08/27 18:58:36] ppocr INFO: Predicts of ./output_detection_rotated/02b02efc5d6b4579a0cae31e1e362555.jpg:('光飛以安邦寶劍秋藏湯色近', 0.8345915675163269)\n",
            "[2024/08/27 18:58:36] ppocr INFO: Predicts of ./output_detection_rotated/0ff04276ca994b12a50f51f88a9373fc.jpg:('天太平文官不爱钱官不惜死', 0.8724350929260254)\n",
            "[2024/08/27 18:58:36] ppocr INFO: Predicts of ./output_detection_rotated/1a2291615b4e4c288a152b4886ac300e.jpg:('鴻飛歸結以來永傳留國祖', 0.8624740839004517)\n",
            "[2024/08/27 18:58:36] ppocr INFO: Predicts of ./output_detection_rotated/1a5634d0281b4b1aac6e616826c30d4b.jpg:('家慶有裕波同', 0.9257786273956299)\n",
            "[2024/08/27 18:58:36] ppocr INFO: Predicts of ./output_detection_rotated/1a7296dbb22748e49b656df5cc6743b5.jpg:('延年收厚', 0.9985939264297485)\n",
            "[2024/08/27 18:58:36] ppocr INFO: Predicts of ./output_detection_rotated/1b094caec3984b8eb1c929b60a8d2b08.jpg:('朝育难酬顧後恩', 0.7483893632888794)\n",
            "[2024/08/27 18:58:36] ppocr INFO: Predicts of ./output_detection_rotated/1b648fd456b54ea5a6a4ff1222b95bad.jpg:('陶弘试玄霜务', 0.7878007888793945)\n",
            "[2024/08/27 18:58:36] ppocr INFO: Predicts of ./output_detection_rotated/1b7b10992eb040d19fcfcadb745d1aa0.jpg:('請佛同仰蓮花臺藏大慈尊', 0.9287829995155334)\n",
            "[2024/08/27 18:58:36] ppocr INFO: Predicts of ./output_detection_rotated/1be6c13d483c41e6809a843fb9f1e913.jpg:('八帝立功國史', 0.9683380126953125)\n",
            "[2024/08/27 18:58:36] ppocr INFO: Predicts of ./output_detection_rotated/1bf527e50d2447098ef82c510e5dab4d.jpg:('光莉裕暖科家慶', 0.5777397751808167)\n",
            "[2024/08/27 18:58:36] ppocr INFO: Predicts of ./output_detection_rotated/1c2ae1260936415b97b01f862f35b000.jpg:('聖德日昭如正直明而一', 0.9932176470756531)\n",
            "[2024/08/27 18:58:36] ppocr INFO: Predicts of ./output_detection_rotated/1c4b01c53a2c4b2e8a76a9f77ab12616.jpg:('千秋心法啟傳', 0.9817690253257751)\n",
            "[2024/08/27 18:58:36] ppocr INFO: Predicts of ./output_detection_rotated/1d47d147b0d94629bc23065156b3804e.jpg:('藥舍鐘英基', 0.7728408575057983)\n",
            "[2024/08/27 18:58:36] ppocr INFO: Predicts of ./output_detection_rotated/1e430e63da3f4600a99d57f9f0f522cd.jpg:('賢舟继案最為雅', 0.4926646053791046)\n",
            "[2024/08/27 18:58:36] ppocr INFO: Predicts of ./output_detection_rotated/1eca49e4eaa34db98a48ae23eb6e281e.jpg:('大宋小占無不服', 0.989777684211731)\n",
            "[2024/08/27 18:58:36] ppocr INFO: Predicts of ./output_detection_rotated/1ecfb49531174acab9339f2ffb83c75f.jpg:('一母儀堪后神靈赫濯永千秋', 0.9480185508728027)\n",
            "[2024/08/27 18:58:36] ppocr INFO: Predicts of ./output_detection_rotated/1ed8a315055b47ee88a8fae54572058d.jpg:('仰世德周根生出兩三枝', 0.9469205737113953)\n",
            "[2024/08/27 18:58:36] ppocr INFO: Predicts of ./output_detection_rotated/1ee3f611b1464b8186efd702889f74da.jpg:('雲潤流清磨', 0.7620989680290222)\n",
            "[2024/08/27 18:58:36] ppocr INFO: Predicts of ./output_detection_rotated/1f21b18879ad4f108421babd1bcf405d.jpg:('千秋正氣戴山河', 0.9401740431785583)\n",
            "[2024/08/27 18:58:36] ppocr INFO: Predicts of ./output_detection_rotated/1f318192afe1431f9ce36713cf6b745a.jpg:('變出火宅作清游長者隨機绿對', 0.8977310657501221)\n",
            "[2024/08/27 18:58:36] ppocr INFO: Predicts of ./output_detection_rotated/2a311d177e1f4c8daf3eb2803e1fd0fa.jpg:('修身已得为深功', 0.9972106218338013)\n",
            "[2024/08/27 18:58:36] ppocr INFO: Predicts of ./output_detection_rotated/2b4a2fc826ee4f828bada58e5407dcfe.jpg:('百年德樹發名花', 0.8364796042442322)\n",
            "[2024/08/27 18:58:36] ppocr INFO: Predicts of ./output_detection_rotated/2cea7f19b8904e38862bd1c337c9dbed.jpg:('兼父母庇方民億年香火', 0.9531305432319641)\n",
            "[2024/08/27 18:58:36] ppocr INFO: Latency: 89.02695904607359 ms\n"
          ]
        }
      ],
      "source": [
        "!python3 /content/recognition/ppocr/tools/infer/predict_rec.py --image_dir=\"./output_detection_rotated\" \\\n",
        "                                                    --rec_model_dir='./weight/recognition_PPOCRLABEL' \\\n",
        "                                                    --rec_char_dict_path='/content/recognition/ppocr/utils/ppocr_keys_v1.txt' \\\n",
        "                                                    # --use_gpu=False \\"
      ]
    }
  ],
  "metadata": {
    "colab": {
      "provenance": [],
      "gpuType": "T4"
    },
    "kernelspec": {
      "display_name": "Python 3",
      "name": "python3"
    },
    "language_info": {
      "name": "python"
    },
    "accelerator": "GPU"
  },
  "nbformat": 4,
  "nbformat_minor": 0
}