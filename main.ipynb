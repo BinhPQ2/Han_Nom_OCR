{
  "cells": [
    {
      "cell_type": "markdown",
      "metadata": {
        "id": "RU4nZHN0Tsyt"
      },
      "source": [
        "# Download weight"
      ]
    },
    {
      "cell_type": "code",
      "execution_count": null,
      "metadata": {
        "id": "Kg6U3eJhUHbE"
      },
      "outputs": [],
      "source": [
        "# Delete all files and folders in the current directory. Use with caution!\n",
        "import shutil\n",
        "shutil.rmtree('./', ignore_errors=True)"
      ]
    },
    {
      "cell_type": "code",
      "execution_count": null,
      "metadata": {
        "colab": {
          "base_uri": "https://localhost:8080/"
        },
        "id": "bEFCR7eQTsy0",
        "outputId": "649a9c0b-31f4-4de3-81bd-ca90f01cf3bc"
      },
      "outputs": [
        {
          "name": "stdout",
          "output_type": "stream",
          "text": [
            "Cloning into '.'...\n",
            "remote: Enumerating objects: 186, done.\u001b[K\n",
            "remote: Counting objects: 100% (186/186), done.\u001b[K\n",
            "remote: Compressing objects: 100% (146/146), done.\u001b[K\n",
            "remote: Total 186 (delta 33), reused 174 (delta 24), pack-reused 0 (from 0)\u001b[K\n",
            "Receiving objects: 100% (186/186), 8.86 MiB | 12.87 MiB/s, done.\n",
            "Resolving deltas: 100% (33/33), done.\n",
            "Cloning into 'yolov10'...\n",
            "remote: Enumerating objects: 20329, done.\u001b[K\n",
            "remote: Counting objects: 100% (2443/2443), done.\u001b[K\n",
            "remote: Compressing objects: 100% (247/247), done.\u001b[K\n",
            "remote: Total 20329 (delta 2315), reused 2196 (delta 2196), pack-reused 17886 (from 1)\u001b[K\n",
            "Receiving objects: 100% (20329/20329), 11.14 MiB | 15.89 MiB/s, done.\n",
            "Resolving deltas: 100% (14335/14335), done.\n"
          ]
        }
      ],
      "source": [
        "!git clone https://github.com/BinhPQ2/Han_Nom_OCR.git .\n",
        "!git clone https://github.com/THU-MIG/yolov10.git"
      ]
    },
    {
      "cell_type": "code",
      "execution_count": null,
      "metadata": {
        "colab": {
          "base_uri": "https://localhost:8080/"
        },
        "collapsed": true,
        "id": "yg9kGcYzmpOD",
        "outputId": "68cd03f2-c6b5-4413-83cc-25852bae5fc2"
      },
      "outputs": [
        {
          "name": "stdout",
          "output_type": "stream",
          "text": [
            "/usr/local/lib/python3.10/dist-packages/gdown/__main__.py:132: FutureWarning: Option `--id` was deprecated in version 4.3.1 and will be removed in 5.0. You don't need to pass it anymore to use a file ID.\n",
            "  warnings.warn(\n",
            "Downloading...\n",
            "From (original): https://drive.google.com/uc?id=11VxsyUVmdH8yD3MtQT-t4I2q9YIvkp3w\n",
            "From (redirected): https://drive.google.com/uc?id=11VxsyUVmdH8yD3MtQT-t4I2q9YIvkp3w&confirm=t&uuid=ab8443e8-328a-43a3-bc02-07325d1d8514\n",
            "To: /content/file.zip\n",
            "100% 262M/262M [00:01<00:00, 161MB/s]\n"
          ]
        }
      ],
      "source": [
        "!gdown --id 11VxsyUVmdH8yD3MtQT-t4I2q9YIvkp3w -O file.zip\n",
        "!unzip -q file.zip"
      ]
    },
    {
      "cell_type": "markdown",
      "metadata": {
        "id": "D3EilJbEnHiT"
      },
      "source": [
        "# Install environments"
      ]
    },
    {
      "cell_type": "code",
      "execution_count": null,
      "metadata": {
        "colab": {
          "base_uri": "https://localhost:8080/"
        },
        "collapsed": true,
        "id": "uF974fhumlot",
        "outputId": "d0a028a3-9bef-4fb2-8e93-43edc73cd1a7"
      },
      "outputs": [
        {
          "name": "stdout",
          "output_type": "stream",
          "text": [
            "\u001b[2K     \u001b[90m━━━━━━━━━━━━━━━━━━━━━━━━━━━━━━━━━━━━━━━━\u001b[0m \u001b[32m60.6/60.6 kB\u001b[0m \u001b[31m3.9 MB/s\u001b[0m eta \u001b[36m0:00:00\u001b[0m\n",
            "\u001b[2K     \u001b[90m━━━━━━━━━━━━━━━━━━━━━━━━━━━━━━━━━━━━━━━━\u001b[0m \u001b[32m50.4/50.4 kB\u001b[0m \u001b[31m4.2 MB/s\u001b[0m eta \u001b[36m0:00:00\u001b[0m\n",
            "\u001b[2K   \u001b[90m━━━━━━━━━━━━━━━━━━━━━━━━━━━━━━━━━━━━━━━━\u001b[0m \u001b[32m619.9/619.9 MB\u001b[0m \u001b[31m2.6 MB/s\u001b[0m eta \u001b[36m0:00:00\u001b[0m\n",
            "\u001b[2K   \u001b[90m━━━━━━━━━━━━━━━━━━━━━━━━━━━━━━━━━━━━━━━━\u001b[0m \u001b[32m6.0/6.0 MB\u001b[0m \u001b[31m90.6 MB/s\u001b[0m eta \u001b[36m0:00:00\u001b[0m\n",
            "\u001b[2K   \u001b[90m━━━━━━━━━━━━━━━━━━━━━━━━━━━━━━━━━━━━━━━━\u001b[0m \u001b[32m14.6/14.6 MB\u001b[0m \u001b[31m105.2 MB/s\u001b[0m eta \u001b[36m0:00:00\u001b[0m\n",
            "\u001b[2K   \u001b[90m━━━━━━━━━━━━━━━━━━━━━━━━━━━━━━━━━━━━━━━━\u001b[0m \u001b[32m5.9/5.9 MB\u001b[0m \u001b[31m28.3 MB/s\u001b[0m eta \u001b[36m0:00:00\u001b[0m\n",
            "\u001b[2K   \u001b[90m━━━━━━━━━━━━━━━━━━━━━━━━━━━━━━━━━━━━━━━━\u001b[0m \u001b[32m426.2/426.2 kB\u001b[0m \u001b[31m35.1 MB/s\u001b[0m eta \u001b[36m0:00:00\u001b[0m\n",
            "\u001b[2K   \u001b[90m━━━━━━━━━━━━━━━━━━━━━━━━━━━━━━━━━━━━━━━━\u001b[0m \u001b[32m705.5/705.5 kB\u001b[0m \u001b[31m48.1 MB/s\u001b[0m eta \u001b[36m0:00:00\u001b[0m\n",
            "\u001b[2K   \u001b[90m━━━━━━━━━━━━━━━━━━━━━━━━━━━━━━━━━━━━━━━━\u001b[0m \u001b[32m38.6/38.6 MB\u001b[0m \u001b[31m16.1 MB/s\u001b[0m eta \u001b[36m0:00:00\u001b[0m\n",
            "\u001b[2K   \u001b[90m━━━━━━━━━━━━━━━━━━━━━━━━━━━━━━━━━━━━━━━━\u001b[0m \u001b[32m2.3/2.3 MB\u001b[0m \u001b[31m85.5 MB/s\u001b[0m eta \u001b[36m0:00:00\u001b[0m\n",
            "\u001b[2K   \u001b[90m━━━━━━━━━━━━━━━━━━━━━━━━━━━━━━━━━━━━━━━━\u001b[0m \u001b[32m199.8/199.8 MB\u001b[0m \u001b[31m5.9 MB/s\u001b[0m eta \u001b[36m0:00:00\u001b[0m\n",
            "\u001b[2K   \u001b[90m━━━━━━━━━━━━━━━━━━━━━━━━━━━━━━━━━━━━━━━━\u001b[0m \u001b[32m12.3/12.3 MB\u001b[0m \u001b[31m97.9 MB/s\u001b[0m eta \u001b[36m0:00:00\u001b[0m\n",
            "\u001b[2K   \u001b[90m━━━━━━━━━━━━━━━━━━━━━━━━━━━━━━━━━━━━━━━━\u001b[0m \u001b[32m62.2/62.2 MB\u001b[0m \u001b[31m11.5 MB/s\u001b[0m eta \u001b[36m0:00:00\u001b[0m\n",
            "\u001b[2K   \u001b[90m━━━━━━━━━━━━━━━━━━━━━━━━━━━━━━━━━━━━━━━━\u001b[0m \u001b[32m288.2/288.2 kB\u001b[0m \u001b[31m23.7 MB/s\u001b[0m eta \u001b[36m0:00:00\u001b[0m\n",
            "\u001b[2K   \u001b[90m━━━━━━━━━━━━━━━━━━━━━━━━━━━━━━━━━━━━━━━━\u001b[0m \u001b[32m401.7/401.7 kB\u001b[0m \u001b[31m34.1 MB/s\u001b[0m eta \u001b[36m0:00:00\u001b[0m\n",
            "\u001b[2K   \u001b[90m━━━━━━━━━━━━━━━━━━━━━━━━━━━━━━━━━━━━━━━━\u001b[0m \u001b[32m1.2/1.2 MB\u001b[0m \u001b[31m62.6 MB/s\u001b[0m eta \u001b[36m0:00:00\u001b[0m\n",
            "\u001b[2K   \u001b[90m━━━━━━━━━━━━━━━━━━━━━━━━━━━━━━━━━━━━━━━━\u001b[0m \u001b[32m315.9/315.9 kB\u001b[0m \u001b[31m27.1 MB/s\u001b[0m eta \u001b[36m0:00:00\u001b[0m\n",
            "\u001b[2K   \u001b[90m━━━━━━━━━━━━━━━━━━━━━━━━━━━━━━━━━━━━━━━━\u001b[0m \u001b[32m317.1/317.1 MB\u001b[0m \u001b[31m4.1 MB/s\u001b[0m eta \u001b[36m0:00:00\u001b[0m\n",
            "\u001b[2K   \u001b[90m━━━━━━━━━━━━━━━━━━━━━━━━━━━━━━━━━━━━━━━━\u001b[0m \u001b[32m11.8/11.8 MB\u001b[0m \u001b[31m59.5 MB/s\u001b[0m eta \u001b[36m0:00:00\u001b[0m\n",
            "\u001b[2K   \u001b[90m━━━━━━━━━━━━━━━━━━━━━━━━━━━━━━━━━━━━━━━━\u001b[0m \u001b[32m21.0/21.0 MB\u001b[0m \u001b[31m35.8 MB/s\u001b[0m eta \u001b[36m0:00:00\u001b[0m\n",
            "\u001b[2K   \u001b[90m━━━━━━━━━━━━━━━━━━━━━━━━━━━━━━━━━━━━━━━━\u001b[0m \u001b[32m849.3/849.3 kB\u001b[0m \u001b[31m33.4 MB/s\u001b[0m eta \u001b[36m0:00:00\u001b[0m\n",
            "\u001b[2K   \u001b[90m━━━━━━━━━━━━━━━━━━━━━━━━━━━━━━━━━━━━━━━━\u001b[0m \u001b[32m557.1/557.1 MB\u001b[0m \u001b[31m2.9 MB/s\u001b[0m eta \u001b[36m0:00:00\u001b[0m\n",
            "\u001b[2K   \u001b[90m━━━━━━━━━━━━━━━━━━━━━━━━━━━━━━━━━━━━━━━━\u001b[0m \u001b[32m168.4/168.4 MB\u001b[0m \u001b[31m6.4 MB/s\u001b[0m eta \u001b[36m0:00:00\u001b[0m\n",
            "\u001b[2K   \u001b[90m━━━━━━━━━━━━━━━━━━━━━━━━━━━━━━━━━━━━━━━━\u001b[0m \u001b[32m54.6/54.6 MB\u001b[0m \u001b[31m11.5 MB/s\u001b[0m eta \u001b[36m0:00:00\u001b[0m\n",
            "\u001b[2K   \u001b[90m━━━━━━━━━━━━━━━━━━━━━━━━━━━━━━━━━━━━━━━━\u001b[0m \u001b[32m102.6/102.6 MB\u001b[0m \u001b[31m8.5 MB/s\u001b[0m eta \u001b[36m0:00:00\u001b[0m\n",
            "\u001b[2K   \u001b[90m━━━━━━━━━━━━━━━━━━━━━━━━━━━━━━━━━━━━━━━━\u001b[0m \u001b[32m173.2/173.2 MB\u001b[0m \u001b[31m6.4 MB/s\u001b[0m eta \u001b[36m0:00:00\u001b[0m\n",
            "\u001b[2K   \u001b[90m━━━━━━━━━━━━━━━━━━━━━━━━━━━━━━━━━━━━━━━━\u001b[0m \u001b[32m177.1/177.1 MB\u001b[0m \u001b[31m6.3 MB/s\u001b[0m eta \u001b[36m0:00:00\u001b[0m\n",
            "\u001b[2K   \u001b[90m━━━━━━━━━━━━━━━━━━━━━━━━━━━━━━━━━━━━━━━━\u001b[0m \u001b[32m98.6/98.6 kB\u001b[0m \u001b[31m8.8 MB/s\u001b[0m eta \u001b[36m0:00:00\u001b[0m\n",
            "\u001b[2K   \u001b[90m━━━━━━━━━━━━━━━━━━━━━━━━━━━━━━━━━━━━━━━━\u001b[0m \u001b[32m63.3/63.3 MB\u001b[0m \u001b[31m12.5 MB/s\u001b[0m eta \u001b[36m0:00:00\u001b[0m\n",
            "\u001b[2K   \u001b[90m━━━━━━━━━━━━━━━━━━━━━━━━━━━━━━━━━━━━━━━━\u001b[0m \u001b[32m151.5/151.5 kB\u001b[0m \u001b[31m13.6 MB/s\u001b[0m eta \u001b[36m0:00:00\u001b[0m\n",
            "\u001b[2K   \u001b[90m━━━━━━━━━━━━━━━━━━━━━━━━━━━━━━━━━━━━━━━━\u001b[0m \u001b[32m76.4/76.4 kB\u001b[0m \u001b[31m8.0 MB/s\u001b[0m eta \u001b[36m0:00:00\u001b[0m\n",
            "\u001b[2K   \u001b[90m━━━━━━━━━━━━━━━━━━━━━━━━━━━━━━━━━━━━━━━━\u001b[0m \u001b[32m77.9/77.9 kB\u001b[0m \u001b[31m7.4 MB/s\u001b[0m eta \u001b[36m0:00:00\u001b[0m\n",
            "\u001b[2K   \u001b[90m━━━━━━━━━━━━━━━━━━━━━━━━━━━━━━━━━━━━━━━━\u001b[0m \u001b[32m141.9/141.9 kB\u001b[0m \u001b[31m12.3 MB/s\u001b[0m eta \u001b[36m0:00:00\u001b[0m\n",
            "\u001b[2K   \u001b[90m━━━━━━━━━━━━━━━━━━━━━━━━━━━━━━━━━━━━━━━━\u001b[0m \u001b[32m10.3/10.3 MB\u001b[0m \u001b[31m114.0 MB/s\u001b[0m eta \u001b[36m0:00:00\u001b[0m\n",
            "\u001b[2K   \u001b[90m━━━━━━━━━━━━━━━━━━━━━━━━━━━━━━━━━━━━━━━━\u001b[0m \u001b[32m62.8/62.8 kB\u001b[0m \u001b[31m6.0 MB/s\u001b[0m eta \u001b[36m0:00:00\u001b[0m\n",
            "\u001b[2K   \u001b[90m━━━━━━━━━━━━━━━━━━━━━━━━━━━━━━━━━━━━━━━━\u001b[0m \u001b[32m46.0/46.0 kB\u001b[0m \u001b[31m4.5 MB/s\u001b[0m eta \u001b[36m0:00:00\u001b[0m\n",
            "\u001b[2K   \u001b[90m━━━━━━━━━━━━━━━━━━━━━━━━━━━━━━━━━━━━━━━━\u001b[0m \u001b[32m93.5/93.5 kB\u001b[0m \u001b[31m9.3 MB/s\u001b[0m eta \u001b[36m0:00:00\u001b[0m\n",
            "\u001b[2K   \u001b[90m━━━━━━━━━━━━━━━━━━━━━━━━━━━━━━━━━━━━━━━━\u001b[0m \u001b[32m58.3/58.3 kB\u001b[0m \u001b[31m6.0 MB/s\u001b[0m eta \u001b[36m0:00:00\u001b[0m\n",
            "\u001b[2K   \u001b[90m━━━━━━━━━━━━━━━━━━━━━━━━━━━━━━━━━━━━━━━━\u001b[0m \u001b[32m86.8/86.8 kB\u001b[0m \u001b[31m8.8 MB/s\u001b[0m eta \u001b[36m0:00:00\u001b[0m\n",
            "\u001b[2K   \u001b[90m━━━━━━━━━━━━━━━━━━━━━━━━━━━━━━━━━━━━━━━━\u001b[0m \u001b[32m72.0/72.0 kB\u001b[0m \u001b[31m7.3 MB/s\u001b[0m eta \u001b[36m0:00:00\u001b[0m\n",
            "\u001b[2K   \u001b[90m━━━━━━━━━━━━━━━━━━━━━━━━━━━━━━━━━━━━━━━━\u001b[0m \u001b[32m129.9/129.9 kB\u001b[0m \u001b[31m13.0 MB/s\u001b[0m eta \u001b[36m0:00:00\u001b[0m\n",
            "\u001b[2K   \u001b[90m━━━━━━━━━━━━━━━━━━━━━━━━━━━━━━━━━━━━━━━━\u001b[0m \u001b[32m96.4/96.4 kB\u001b[0m \u001b[31m9.9 MB/s\u001b[0m eta \u001b[36m0:00:00\u001b[0m\n",
            "\u001b[?25h\u001b[31mERROR: pip's dependency resolver does not currently take into account all the packages that are installed. This behaviour is the source of the following dependency conflicts.\n",
            "torchaudio 2.4.0+cu121 requires torch==2.4.0, but you have torch 2.0.1 which is incompatible.\u001b[0m\u001b[31m\n",
            "\u001b[0m  Installing build dependencies ... \u001b[?25l\u001b[?25hdone\n",
            "  Checking if build backend supports build_editable ... \u001b[?25l\u001b[?25hdone\n",
            "  Getting requirements to build editable ... \u001b[?25l\u001b[?25hdone\n",
            "  Preparing editable metadata (pyproject.toml) ... \u001b[?25l\u001b[?25hdone\n",
            "  Building editable for ultralytics (pyproject.toml) ... \u001b[?25l\u001b[?25hdone\n"
          ]
        }
      ],
      "source": [
        "!pip install -q -r requirements.txt\n",
        "!pip install -q -e ./yolov10/\n",
        "# !pip install supervision -q # already included in the requirement.txt\n",
        "# !pip install ultralytics -q"
      ]
    },
    {
      "cell_type": "code",
      "execution_count": null,
      "metadata": {
        "colab": {
          "base_uri": "https://localhost:8080/"
        },
        "id": "uBWvsxc5qasr",
        "outputId": "903618b4-fc7e-4f18-eb49-89e6db5d58ad"
      },
      "outputs": [
        {
          "name": "stdout",
          "output_type": "stream",
          "text": [
            "Name: ultralytics\n",
            "Version: 8.1.34\n",
            "Summary: Ultralytics YOLOv8 for SOTA object detection, multi-object tracking, instance segmentation, pose estimation and image classification.\n",
            "Home-page: \n",
            "Author: Glenn Jocher, Ayush Chaurasia, Jing Qiu\n",
            "Author-email: \n",
            "License: AGPL-3.0\n",
            "Location: /usr/local/lib/python3.10/dist-packages\n",
            "Editable project location: /content/yolov10\n",
            "Requires: matplotlib, opencv-python, pandas, pillow, psutil, py-cpuinfo, pyyaml, requests, scipy, seaborn, thop, torch, torchvision, tqdm\n",
            "Required-by: \n"
          ]
        }
      ],
      "source": [
        "!pip show ultralytics"
      ]
    },
    {
      "cell_type": "code",
      "execution_count": null,
      "metadata": {
        "id": "mfyx-nX8mlov"
      },
      "outputs": [],
      "source": [
        "import os\n",
        "import random\n",
        "import numpy as np\n",
        "from tqdm import tqdm\n",
        "import pickle\n",
        "import cv2\n",
        "import supervision as sv\n",
        "import matplotlib.pyplot as plt\n",
        "from ultralytics import YOLOv10 # rerun session if it has error in this library"
      ]
    },
    {
      "cell_type": "code",
      "execution_count": null,
      "metadata": {
        "id": "Uxi_bpWUmlo0"
      },
      "outputs": [],
      "source": [
        "!pip install -q paddleocr --upgrade\n",
        "!pip install -q paddlepaddle-gpu --upgrade"
      ]
    },
    {
      "cell_type": "markdown",
      "metadata": {
        "id": "ZF7pyCtamlom"
      },
      "source": [
        "# Detection"
      ]
    },
    {
      "cell_type": "code",
      "execution_count": null,
      "metadata": {
        "id": "R4wQsmD_mlow"
      },
      "outputs": [],
      "source": [
        "def save_crop(result, save_path):\n",
        "    os.makedirs(save_path, exist_ok=True)\n",
        "\n",
        "    conf_s = result.boxes.conf.detach().cpu().numpy()\n",
        "    xyxy_s = result.boxes.xyxy.detach().cpu().numpy()\n",
        "    idx_s = [i for i in range(len(conf_s))]\n",
        "    img_name = os.path.basename(result.path)\n",
        "    img = result.orig_img\n",
        "    for idx, conf, xyxy in zip(idx_s, conf_s, xyxy_s):\n",
        "        # name = f\"oder_{idx}__conf_{conf}__name_{img_name}\"\n",
        "        name = img_name\n",
        "\n",
        "        height=result.orig_img.shape[0]\n",
        "        width=result.orig_img.shape[1]\n",
        "\n",
        "        height_extend_ratio = 0.05\n",
        "        width_extend_ratio = 0.1\n",
        "\n",
        "        x0, y0, x1, y1 = xyxy.tolist()\n",
        "        x0 = int(max(0, x0 - width_extend_ratio*abs(x1 - x0)))\n",
        "        x1 = int(min(width, x1 + width_extend_ratio*abs(x1 - x0)))\n",
        "        y0 = int(max(0, y0 - height_extend_ratio*abs(y1 - y0)))\n",
        "        y1 = int(min(height, y1 + height_extend_ratio*abs(y1 - y0)))\n",
        "        crop_image = img[y0:y1, x0:x1]\n",
        "\n",
        "        cv2.imwrite(os.path.join(save_path, name), crop_image)"
      ]
    },
    {
      "cell_type": "code",
      "execution_count": null,
      "metadata": {
        "colab": {
          "base_uri": "https://localhost:8080/"
        },
        "id": "itbf2N2jmloy",
        "outputId": "bd93e3c1-d50d-4e10-eb02-3dbc361a6eca"
      },
      "outputs": [
        {
          "name": "stdout",
          "output_type": "stream",
          "text": [
            "\n",
            "image 1/23 /content/input_image/02b02efc5d6b4579a0cae31e1e362555.jpg: 640x480 1 couplet, 30.5ms\n",
            "image 2/23 /content/input_image/0ff04276ca994b12a50f51f88a9373fc.jpg: 640x352 1 couplet, 27.4ms\n",
            "image 3/23 /content/input_image/1a2291615b4e4c288a152b4886ac300e.jpg: 640x480 1 couplet, 26.8ms\n",
            "image 4/23 /content/input_image/1a5634d0281b4b1aac6e616826c30d4b.jpg: 640x320 2 couplets, 22.6ms\n",
            "image 5/23 /content/input_image/1a7296dbb22748e49b656df5cc6743b5.jpg: 640x288 2 couplets, 20.9ms\n",
            "image 6/23 /content/input_image/1b094caec3984b8eb1c929b60a8d2b08.jpg: 640x480 4 couplets, 26.6ms\n",
            "image 7/23 /content/input_image/1b648fd456b54ea5a6a4ff1222b95bad.jpg: 640x384 1 couplet, 20.5ms\n",
            "image 8/23 /content/input_image/1b7b10992eb040d19fcfcadb745d1aa0.jpg: 640x256 1 couplet, 14.7ms\n",
            "image 9/23 /content/input_image/1be6c13d483c41e6809a843fb9f1e913.jpg: 640x480 1 couplet, 22.4ms\n",
            "image 10/23 /content/input_image/1bf527e50d2447098ef82c510e5dab4d.jpg: 640x288 1 couplet, 17.7ms\n",
            "image 11/23 /content/input_image/1c2ae1260936415b97b01f862f35b000.jpg: 640x320 1 couplet, 18.8ms\n",
            "image 12/23 /content/input_image/1c4b01c53a2c4b2e8a76a9f77ab12616.jpg: 640x480 2 couplets, 23.4ms\n",
            "image 13/23 /content/input_image/1d47d147b0d94629bc23065156b3804e.jpg: 640x480 2 couplets, 21.6ms\n",
            "image 14/23 /content/input_image/1e430e63da3f4600a99d57f9f0f522cd.jpg: 640x128 1 couplet, 11.5ms\n",
            "image 15/23 /content/input_image/1eca49e4eaa34db98a48ae23eb6e281e.jpg: 640x480 1 couplet, 22.4ms\n",
            "image 16/23 /content/input_image/1ecfb49531174acab9339f2ffb83c75f.jpg: 640x480 1 couplet, 21.6ms\n",
            "image 17/23 /content/input_image/1ed8a315055b47ee88a8fae54572058d.jpg: 640x480 1 couplet, 21.7ms\n",
            "image 18/23 /content/input_image/1ee3f611b1464b8186efd702889f74da.jpg: 640x640 2 couplets, 27.2ms\n",
            "image 19/23 /content/input_image/1f21b18879ad4f108421babd1bcf405d.jpg: 640x512 1 couplet, 23.7ms\n",
            "image 20/23 /content/input_image/1f318192afe1431f9ce36713cf6b745a.jpg: 640x448 1 couplet, 25.7ms\n",
            "image 21/23 /content/input_image/2a311d177e1f4c8daf3eb2803e1fd0fa.jpg: 640x160 1 couplet, 22.5ms\n",
            "image 22/23 /content/input_image/2b4a2fc826ee4f828bada58e5407dcfe.jpg: 640x480 1 couplet, 22.9ms\n",
            "image 23/23 /content/input_image/2cea7f19b8904e38862bd1c337c9dbed.jpg: 640x480 1 couplet, 21.7ms\n",
            "Speed: 2.1ms preprocess, 22.4ms inference, 1.0ms postprocess per image at shape (1, 3, 640, 480)\n",
            "Results saved to \u001b[1m/content/yolov10/runs/detect/predict\u001b[0m\n",
            "23 labels saved to /content/yolov10/runs/detect/predict/labels\n"
          ]
        }
      ],
      "source": [
        "input_image_folder = \"./input_image\"\n",
        "save_path = \"./output_detection\"\n",
        "model = YOLOv10('./weight/detection_yolov10.pt')\n",
        "\n",
        "results = model.predict(source=input_image_folder, conf=0.5, stream=True, save_txt=True)\n",
        "for idx, result in enumerate(results):\n",
        "    save_crop(result, save_path)"
      ]
    },
    {
      "cell_type": "markdown",
      "metadata": {
        "id": "FX3-RpFPl2wC"
      },
      "source": [
        "# Rotate image to prepare for Recognition"
      ]
    },
    {
      "cell_type": "code",
      "execution_count": null,
      "metadata": {
        "id": "dJ7A596uJsbZ"
      },
      "outputs": [],
      "source": [
        "# prompt: Rotate all the image in ./output_detection by 90 degree counter-clockwise and save it in ./output_detection_rotated\n",
        "\n",
        "import os\n",
        "import cv2\n",
        "\n",
        "input_folder = './output_detection'\n",
        "output_folder = './output_detection_rotated'\n",
        "\n",
        "os.makedirs(output_folder, exist_ok=True)\n",
        "\n",
        "for filename in os.listdir(input_folder):\n",
        "  if filename.endswith(('.jpg', '.jpeg', '.png')):\n",
        "    img_path = os.path.join(input_folder, filename)\n",
        "    img = cv2.imread(img_path)\n",
        "    rotated_img = cv2.rotate(img, cv2.ROTATE_90_COUNTERCLOCKWISE)\n",
        "    output_path = os.path.join(output_folder, filename)\n",
        "    cv2.imwrite(output_path, rotated_img)\n"
      ]
    },
    {
      "cell_type": "markdown",
      "metadata": {
        "id": "EH-UJpWvmloz"
      },
      "source": [
        "# Recognition"
      ]
    },
    {
      "cell_type": "code",
      "execution_count": null,
      "metadata": {
        "colab": {
          "base_uri": "https://localhost:8080/"
        },
        "id": "BvOGJgFOmlo0",
        "outputId": "35504e62-7fa1-4f54-854d-9f9da206e619"
      },
      "outputs": [
        {
          "name": "stdout",
          "output_type": "stream",
          "text": [
            "args: Namespace(use_gpu=True, use_xpu=False, use_npu=False, use_mlu=False, ir_optim=True, use_tensorrt=False, min_subgraph_size=15, precision='fp32', gpu_mem=500, gpu_id=0, image_dir='./output_detection_rotated', page_num=0, det_algorithm='DB', det_model_dir=None, det_limit_side_len=960, det_limit_type='max', det_box_type='quad', det_db_thresh=0.3, det_db_box_thresh=0.6, det_db_unclip_ratio=1.5, max_batch_size=10, use_dilation=False, det_db_score_mode='fast', det_east_score_thresh=0.8, det_east_cover_thresh=0.1, det_east_nms_thresh=0.2, det_sast_score_thresh=0.5, det_sast_nms_thresh=0.2, det_pse_thresh=0, det_pse_box_thresh=0.85, det_pse_min_area=16, det_pse_scale=1, scales=[8, 16, 32], alpha=1.0, beta=1.0, fourier_degree=5, rec_algorithm='SVTR_LCNet', rec_model_dir='./weight/recognition_PPOCRLABEL', rec_image_inverse=True, rec_image_shape='3, 48, 320', rec_batch_num=6, max_text_length=25, rec_char_dict_path='/content/recognition/ppocr/utils/ppocr_keys_v1.txt', use_space_char=True, vis_font_path='./doc/fonts/simfang.ttf', drop_score=0.5, e2e_algorithm='PGNet', e2e_model_dir=None, e2e_limit_side_len=768, e2e_limit_type='max', e2e_pgnet_score_thresh=0.5, e2e_char_dict_path='./ppocr/utils/ic15_dict.txt', e2e_pgnet_valid_set='totaltext', e2e_pgnet_mode='fast', use_angle_cls=False, cls_model_dir=None, cls_image_shape='3, 48, 192', label_list=['0', '180'], cls_batch_num=6, cls_thresh=0.9, enable_mkldnn=False, cpu_threads=10, use_pdserving=False, warmup=False, sr_model_dir=None, sr_image_shape='3, 32, 128', sr_batch_num=1, draw_img_save_dir='./inference_results', save_crop_res=False, crop_res_save_dir='./output', use_mp=False, total_process_num=1, process_id=0, benchmark=False, save_log_path='./log_output/', show_log=True, use_onnx=False, return_word_box=False)\n",
            "[2024/08/31 10:45:17] ppocr WARNING: The first GPU is used for inference by default, GPU ID: 0\n",
            "[2024/08/31 10:45:20] ppocr INFO: In PP-OCRv3, rec_image_shape parameter defaults to '3, 48, 320', if you are using recognition model with PP-OCRv2 or an older version, please set --rec_image_shape='3,32,320\n",
            "[2024/08/31 10:45:21] ppocr INFO: Predicts of ./output_detection_rotated/02b02efc5d6b4579a0cae31e1e362555.jpg:('光飛以安邦寶劍秋藏湯色近', 0.8345915675163269)\n",
            "[2024/08/31 10:45:21] ppocr INFO: Predicts of ./output_detection_rotated/0ff04276ca994b12a50f51f88a9373fc.jpg:('天太平文官不爱钱官不惜死', 0.8724350929260254)\n",
            "[2024/08/31 10:45:21] ppocr INFO: Predicts of ./output_detection_rotated/1a2291615b4e4c288a152b4886ac300e.jpg:('鴻飛歸結以來永傳留國祖', 0.8624740839004517)\n",
            "[2024/08/31 10:45:21] ppocr INFO: Predicts of ./output_detection_rotated/1a5634d0281b4b1aac6e616826c30d4b.jpg:('家慶有裕波同', 0.9257786273956299)\n",
            "[2024/08/31 10:45:21] ppocr INFO: Predicts of ./output_detection_rotated/1a7296dbb22748e49b656df5cc6743b5.jpg:('延年收厚', 0.9985939264297485)\n",
            "[2024/08/31 10:45:21] ppocr INFO: Predicts of ./output_detection_rotated/1b094caec3984b8eb1c929b60a8d2b08.jpg:('朝育难酬顧後恩', 0.7483893632888794)\n",
            "[2024/08/31 10:45:21] ppocr INFO: Predicts of ./output_detection_rotated/1b648fd456b54ea5a6a4ff1222b95bad.jpg:('陶弘试玄霜务', 0.7878007888793945)\n",
            "[2024/08/31 10:45:21] ppocr INFO: Predicts of ./output_detection_rotated/1b7b10992eb040d19fcfcadb745d1aa0.jpg:('請佛同仰蓮花臺藏大慈尊', 0.9287829995155334)\n",
            "[2024/08/31 10:45:21] ppocr INFO: Predicts of ./output_detection_rotated/1be6c13d483c41e6809a843fb9f1e913.jpg:('八帝立功國史', 0.9683380126953125)\n",
            "[2024/08/31 10:45:21] ppocr INFO: Predicts of ./output_detection_rotated/1bf527e50d2447098ef82c510e5dab4d.jpg:('光莉裕暖科家慶', 0.5777397751808167)\n",
            "[2024/08/31 10:45:21] ppocr INFO: Predicts of ./output_detection_rotated/1c2ae1260936415b97b01f862f35b000.jpg:('聖德日昭如正直明而一', 0.9932176470756531)\n",
            "[2024/08/31 10:45:21] ppocr INFO: Predicts of ./output_detection_rotated/1c4b01c53a2c4b2e8a76a9f77ab12616.jpg:('千秋心法啟傳', 0.9817690253257751)\n",
            "[2024/08/31 10:45:21] ppocr INFO: Predicts of ./output_detection_rotated/1d47d147b0d94629bc23065156b3804e.jpg:('藥舍鐘英基', 0.7728408575057983)\n",
            "[2024/08/31 10:45:21] ppocr INFO: Predicts of ./output_detection_rotated/1e430e63da3f4600a99d57f9f0f522cd.jpg:('賢舟继案最為雅', 0.4926646053791046)\n",
            "[2024/08/31 10:45:21] ppocr INFO: Predicts of ./output_detection_rotated/1eca49e4eaa34db98a48ae23eb6e281e.jpg:('大宋小占無不服', 0.989777684211731)\n",
            "[2024/08/31 10:45:21] ppocr INFO: Predicts of ./output_detection_rotated/1ecfb49531174acab9339f2ffb83c75f.jpg:('一母儀堪后神靈赫濯永千秋', 0.9480185508728027)\n",
            "[2024/08/31 10:45:21] ppocr INFO: Predicts of ./output_detection_rotated/1ed8a315055b47ee88a8fae54572058d.jpg:('仰世德周根生出兩三枝', 0.9469205737113953)\n",
            "[2024/08/31 10:45:21] ppocr INFO: Predicts of ./output_detection_rotated/1ee3f611b1464b8186efd702889f74da.jpg:('雲潤流清磨', 0.7620989680290222)\n",
            "[2024/08/31 10:45:21] ppocr INFO: Predicts of ./output_detection_rotated/1f21b18879ad4f108421babd1bcf405d.jpg:('千秋正氣戴山河', 0.9401740431785583)\n",
            "[2024/08/31 10:45:21] ppocr INFO: Predicts of ./output_detection_rotated/1f318192afe1431f9ce36713cf6b745a.jpg:('變出火宅作清游長者隨機绿對', 0.8977310657501221)\n",
            "[2024/08/31 10:45:21] ppocr INFO: Predicts of ./output_detection_rotated/2a311d177e1f4c8daf3eb2803e1fd0fa.jpg:('修身已得为深功', 0.9972106218338013)\n",
            "[2024/08/31 10:45:21] ppocr INFO: Predicts of ./output_detection_rotated/2b4a2fc826ee4f828bada58e5407dcfe.jpg:('百年德樹發名花', 0.8364796042442322)\n",
            "[2024/08/31 10:45:21] ppocr INFO: Predicts of ./output_detection_rotated/2cea7f19b8904e38862bd1c337c9dbed.jpg:('兼父母庇方民億年香火', 0.9531305432319641)\n",
            "[2024/08/31 10:45:21] ppocr INFO: Latency: 46.198202216106914 ms\n"
          ]
        }
      ],
      "source": [
        "!python3 /content/recognition/ppocr/tools/infer/predict_rec.py --image_dir=\"./output_detection_rotated\" \\\n",
        "                                                    --rec_model_dir='./weight/recognition_PPOCRLABEL' \\\n",
        "                                                    --rec_char_dict_path='/content/recognition/ppocr/utils/ppocr_keys_v1.txt' \\\n",
        "                                                    # --use_gpu=False \\"
      ]
    },
    {
      "cell_type": "markdown",
      "metadata": {
        "id": "E3Xm-7Gl2rBo"
      },
      "source": [
        "# Test"
      ]
    },
    {
      "cell_type": "code",
      "execution_count": null,
      "metadata": {
        "colab": {
          "base_uri": "https://localhost:8080/"
        },
        "id": "g8qf2pZXnV2D",
        "outputId": "95236e19-269c-4e69-a436-def7c67d1e49"
      },
      "outputs": [
        {
          "name": "stdout",
          "output_type": "stream",
          "text": [
            "ArgumentParser(prog='colab_kernel_launcher.py', usage=None, description=None, formatter_class=<class 'argparse.HelpFormatter'>, conflict_handler='error', add_help=True)\n"
          ]
        }
      ],
      "source": [
        "import recognition.ppocr.tools.infer.utility as utility\n",
        "from recognition.ppocr.tools.infer.f_debug import process_image\n",
        "args = utility.init_args()\n",
        "# Example usage\n",
        "print(args)\n",
        "image_dir = \"./output_detection_rotated\"\n",
        "rec_model_dir = './weight/recognition_PPOCRLABEL'\n",
        "rec_char_dict_path = '/content/recognition/ppocr/utils/ppocr_keys_v1.txt'\n",
        "# process_image(image_dir=args.image_dir, args.rec_model_dir, args.rec_char_dict_path)"
      ]
    },
    {
      "cell_type": "code",
      "execution_count": null,
      "metadata": {
        "colab": {
          "base_uri": "https://localhost:8080/"
        },
        "id": "C1Fsp0OL0-UW",
        "outputId": "2c5f18ef-56ad-42f4-a4d8-f44b918a381f"
      },
      "outputs": [
        {
          "name": "stdout",
          "output_type": "stream",
          "text": [
            "args.use_gpu: True\n",
            "args.save_log_path: ./log_output/\n",
            "args.use_space_char: True\n",
            "args.rec_model_dir: ./weight/recognition_PPOCRLABEL\n",
            "[2024/08/31 09:53:44] ppocr WARNING: The first GPU is used for inference by default, GPU ID: 0\n",
            "[2024/08/31 09:53:47] ppocr INFO: In PP-OCRv3, rec_image_shape parameter defaults to '3, 48, 320', if you are using recognition model with PP-OCRv2 or an older version, please set --rec_image_shape='3,32,320\n",
            "[2024/08/31 09:53:48] ppocr INFO: Predicts of ./output_detection_rotated/02b02efc5d6b4579a0cae31e1e362555.jpg:('光飛以安邦寶劍秋藏湯色近', 0.8345915675163269)\n",
            "[2024/08/31 09:53:48] ppocr INFO: Predicts of ./output_detection_rotated/0ff04276ca994b12a50f51f88a9373fc.jpg:('天太平文官不爱钱官不惜死', 0.8724350929260254)\n",
            "[2024/08/31 09:53:48] ppocr INFO: Predicts of ./output_detection_rotated/1a2291615b4e4c288a152b4886ac300e.jpg:('鴻飛歸結以來永傳留國祖', 0.8624740839004517)\n",
            "[2024/08/31 09:53:48] ppocr INFO: Predicts of ./output_detection_rotated/1a5634d0281b4b1aac6e616826c30d4b.jpg:('家慶有裕波同', 0.9257786273956299)\n",
            "[2024/08/31 09:53:48] ppocr INFO: Predicts of ./output_detection_rotated/1a7296dbb22748e49b656df5cc6743b5.jpg:('延年收厚', 0.9985939264297485)\n",
            "[2024/08/31 09:53:48] ppocr INFO: Predicts of ./output_detection_rotated/1b094caec3984b8eb1c929b60a8d2b08.jpg:('朝育难酬顧後恩', 0.7483893632888794)\n",
            "[2024/08/31 09:53:48] ppocr INFO: Predicts of ./output_detection_rotated/1b648fd456b54ea5a6a4ff1222b95bad.jpg:('陶弘试玄霜务', 0.7878007888793945)\n",
            "[2024/08/31 09:53:48] ppocr INFO: Predicts of ./output_detection_rotated/1b7b10992eb040d19fcfcadb745d1aa0.jpg:('請佛同仰蓮花臺藏大慈尊', 0.9287829995155334)\n",
            "[2024/08/31 09:53:48] ppocr INFO: Predicts of ./output_detection_rotated/1be6c13d483c41e6809a843fb9f1e913.jpg:('八帝立功國史', 0.9683380126953125)\n",
            "[2024/08/31 09:53:48] ppocr INFO: Predicts of ./output_detection_rotated/1bf527e50d2447098ef82c510e5dab4d.jpg:('光莉裕暖科家慶', 0.5777397751808167)\n",
            "[2024/08/31 09:53:48] ppocr INFO: Predicts of ./output_detection_rotated/1c2ae1260936415b97b01f862f35b000.jpg:('聖德日昭如正直明而一', 0.9932176470756531)\n",
            "[2024/08/31 09:53:48] ppocr INFO: Predicts of ./output_detection_rotated/1c4b01c53a2c4b2e8a76a9f77ab12616.jpg:('千秋心法啟傳', 0.9817690253257751)\n",
            "[2024/08/31 09:53:48] ppocr INFO: Predicts of ./output_detection_rotated/1d47d147b0d94629bc23065156b3804e.jpg:('藥舍鐘英基', 0.7728408575057983)\n",
            "[2024/08/31 09:53:48] ppocr INFO: Predicts of ./output_detection_rotated/1e430e63da3f4600a99d57f9f0f522cd.jpg:('賢舟继案最為雅', 0.4926646053791046)\n",
            "[2024/08/31 09:53:48] ppocr INFO: Predicts of ./output_detection_rotated/1eca49e4eaa34db98a48ae23eb6e281e.jpg:('大宋小占無不服', 0.989777684211731)\n",
            "[2024/08/31 09:53:48] ppocr INFO: Predicts of ./output_detection_rotated/1ecfb49531174acab9339f2ffb83c75f.jpg:('一母儀堪后神靈赫濯永千秋', 0.9480185508728027)\n",
            "[2024/08/31 09:53:48] ppocr INFO: Predicts of ./output_detection_rotated/1ed8a315055b47ee88a8fae54572058d.jpg:('仰世德周根生出兩三枝', 0.9469205737113953)\n",
            "[2024/08/31 09:53:48] ppocr INFO: Predicts of ./output_detection_rotated/1ee3f611b1464b8186efd702889f74da.jpg:('雲潤流清磨', 0.7620989680290222)\n",
            "[2024/08/31 09:53:48] ppocr INFO: Predicts of ./output_detection_rotated/1f21b18879ad4f108421babd1bcf405d.jpg:('千秋正氣戴山河', 0.9401740431785583)\n",
            "[2024/08/31 09:53:48] ppocr INFO: Predicts of ./output_detection_rotated/1f318192afe1431f9ce36713cf6b745a.jpg:('變出火宅作清游長者隨機绿對', 0.8977310657501221)\n",
            "[2024/08/31 09:53:48] ppocr INFO: Predicts of ./output_detection_rotated/2a311d177e1f4c8daf3eb2803e1fd0fa.jpg:('修身已得为深功', 0.9972106218338013)\n",
            "[2024/08/31 09:53:48] ppocr INFO: Predicts of ./output_detection_rotated/2b4a2fc826ee4f828bada58e5407dcfe.jpg:('百年德樹發名花', 0.8364796042442322)\n",
            "[2024/08/31 09:53:48] ppocr INFO: Predicts of ./output_detection_rotated/2cea7f19b8904e38862bd1c337c9dbed.jpg:('兼父母庇方民億年香火', 0.9531305432319641)\n",
            "[2024/08/31 09:53:48] ppocr INFO: Latency: 44.37881967295771 ms\n"
          ]
        }
      ],
      "source": [
        "!python3 /content/recognition/ppocr/tools/infer/d.py --image_dir=\"./output_detection_rotated\" \\\n",
        "                                                    --rec_model_dir='./weight/recognition_PPOCRLABEL' \\\n",
        "                                                    --rec_char_dict_path='/content/recognition/ppocr/utils/ppocr_keys_v1.txt' \\\n",
        "                                                    # --use_gpu=False \\"
      ]
    },
    {
      "cell_type": "code",
      "execution_count": 1,
      "metadata": {},
      "outputs": [
        {
          "name": "stdout",
          "output_type": "stream",
          "text": [
            "args.use_gpu: True\n",
            "args.image_dir: ./output_detection_rotated\n"
          ]
        }
      ],
      "source": [
        "class Args:\n",
        "    def __init__(self, **kwargs):\n",
        "        # Set attributes dynamically based on keyword arguments\n",
        "        for key, value in kwargs.items():\n",
        "            setattr(self, key, value)\n",
        "\n",
        "    def __repr__(self):\n",
        "        # Optional: customize the string representation for debugging\n",
        "        return str(self.__dict__)\n",
        "\n",
        "# Usage example:\n",
        "args = Args(\n",
        "    use_gpu=True,\n",
        "    use_xpu=False,\n",
        "    use_npu=False,\n",
        "    use_mlu=False,\n",
        "    ir_optim=True,\n",
        "    use_tensorrt=False,\n",
        "    min_subgraph_size=15,\n",
        "    precision='fp32',\n",
        "    gpu_mem=500,\n",
        "    gpu_id=0,\n",
        "    image_dir='./output_detection_rotated',\n",
        "    page_num=0,\n",
        "    det_algorithm='DB',\n",
        "    det_model_dir=None,\n",
        "    det_limit_side_len=960,\n",
        "    det_limit_type='max',\n",
        "    det_box_type='quad',\n",
        "    det_db_thresh=0.3,\n",
        "    det_db_box_thresh=0.6,\n",
        "    det_db_unclip_ratio=1.5,\n",
        "    max_batch_size=10,\n",
        "    use_dilation=False,\n",
        "    det_db_score_mode='fast',\n",
        "    det_east_score_thresh=0.8,\n",
        "    det_east_cover_thresh=0.1,\n",
        "    det_east_nms_thresh=0.2,\n",
        "    det_sast_score_thresh=0.5,\n",
        "    det_sast_nms_thresh=0.2,\n",
        "    det_pse_thresh=0,\n",
        "    det_pse_box_thresh=0.85,\n",
        "    det_pse_min_area=16,\n",
        "    det_pse_scale=1,\n",
        "    scales=[8, 16, 32],\n",
        "    alpha=1.0,\n",
        "    beta=1.0,\n",
        "    fourier_degree=5,\n",
        "    rec_algorithm='SVTR_LCNet',\n",
        "    rec_model_dir='./weight/recognition_PPOCRLABEL',\n",
        "    rec_image_inverse=True,\n",
        "    rec_image_shape='3, 48, 320',\n",
        "    rec_batch_num=6,\n",
        "    max_text_length=25,\n",
        "    rec_char_dict_path='/content/recognition/ppocr/utils/ppocr_keys_v1.txt',\n",
        "    use_space_char=True,\n",
        "    vis_font_path='./doc/fonts/simfang.ttf',\n",
        "    drop_score=0.5,\n",
        "    e2e_algorithm='PGNet',\n",
        "    e2e_model_dir=None,\n",
        "    e2e_limit_side_len=768,\n",
        "    e2e_limit_type='max',\n",
        "    e2e_pgnet_score_thresh=0.5,\n",
        "    e2e_char_dict_path='./ppocr/utils/ic15_dict.txt',\n",
        "    e2e_pgnet_valid_set='totaltext',\n",
        "    e2e_pgnet_mode='fast',\n",
        "    use_angle_cls=False,\n",
        "    cls_model_dir=None,\n",
        "    cls_image_shape='3, 48, 192',\n",
        "    label_list=['0', '180'],\n",
        "    cls_batch_num=6,\n",
        "    cls_thresh=0.9,\n",
        "    enable_mkldnn=False,\n",
        "    cpu_threads=10,\n",
        "    use_pdserving=False,\n",
        "    warmup=False,\n",
        "    sr_model_dir=None,\n",
        "    sr_image_shape='3, 32, 128',\n",
        "    sr_batch_num=1,\n",
        "    draw_img_save_dir='./inference_results',\n",
        "    save_crop_res=False,\n",
        "    crop_res_save_dir='./output',\n",
        "    use_mp=False,\n",
        "    total_process_num=1,\n",
        "    process_id=0,\n",
        "    benchmark=False,\n",
        "    save_log_path='./log_output/',\n",
        "    show_log=True,\n",
        "    use_onnx=False,\n",
        "    return_word_box=False\n",
        ")\n",
        "\n",
        "from recognition.ppocr.tools.infer.predict_mine import main\n",
        "main(args)\n"
      ]
    }
  ],
  "metadata": {
    "accelerator": "GPU",
    "colab": {
      "collapsed_sections": [
        "D3EilJbEnHiT"
      ],
      "gpuType": "T4",
      "provenance": []
    },
    "kernelspec": {
      "display_name": "Python 3",
      "name": "python3"
    },
    "language_info": {
      "codemirror_mode": {
        "name": "ipython",
        "version": 3
      },
      "file_extension": ".py",
      "mimetype": "text/x-python",
      "name": "python",
      "nbconvert_exporter": "python",
      "pygments_lexer": "ipython3",
      "version": "3.7.12"
    }
  },
  "nbformat": 4,
  "nbformat_minor": 0
}
